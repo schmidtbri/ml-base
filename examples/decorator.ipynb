{
 "cells": [
  {
   "cell_type": "markdown",
   "id": "050b4ff4",
   "metadata": {},
   "source": [
    "# MLModelDecorator Example"
   ]
  },
  {
   "cell_type": "code",
   "execution_count": 1,
   "id": "1b05683b",
   "metadata": {},
   "outputs": [],
   "source": [
    "import sys\n",
    "import os\n",
    "\n",
    "sys.path.insert(0, os.path.abspath(os.path.join(\"./\", os.pardir)))"
   ]
  },
  {
   "cell_type": "markdown",
   "id": "c3796ed5",
   "metadata": {},
   "source": [
    "## Creating a Decorator\n",
    "\n",
    "Decorators are objects that allow us to extend the functionality of other objects at runtime without having to modify the objects that are being decorated. The decorator pattern is a well-known object-oriented design pattern that helps to make code more flexible and reusable.\n",
    "\n",
    "Notice that we are not working with Python decorators, which are used to decorate functions and methods at loading time only (when the function or class is created). The decorators we will work with are run-time decorators since they are applied during the runtime of the program.\n",
    "\n",
    "The objects we want to decorate are MLModel objects, so we'll need an MLModel class to work with. We'll create a simple mocked model class to work with along with the input and output schemas:"
   ]
  },
  {
   "cell_type": "code",
   "execution_count": 2,
   "id": "b59f2634",
   "metadata": {},
   "outputs": [],
   "source": [
    "from ml_base.ml_model import MLModel\n",
    "from pydantic import BaseModel, Field\n",
    "from enum import Enum\n",
    "\n",
    "\n",
    "class ModelInput(BaseModel):\n",
    "    sepal_length: float = Field(gt=5.0, lt=8.0)\n",
    "    sepal_width: float = Field(gt=2.0, lt=6.0)\n",
    "    petal_length: float = Field(gt=1.0, lt=6.8)\n",
    "    petal_width: float = Field(gt=0.0, lt=3.0)\n",
    "\n",
    "\n",
    "class Species(str, Enum):\n",
    "    iris_setosa = \"Iris setosa\"\n",
    "    iris_versicolor = \"Iris versicolor\"\n",
    "    iris_virginica = \"Iris virginica\"\n",
    "\n",
    "\n",
    "class ModelOutput(BaseModel):\n",
    "    species: Species\n",
    "\n",
    "\n",
    "class IrisModelMock(MLModel):\n",
    "    display_name = \"Iris Model\"\n",
    "    qualified_name = \"iris_model\"\n",
    "    description = \"A model to predict the species of a flower based on its measurements.\"\n",
    "    version = \"1.0.0\"\n",
    "    input_schema = ModelInput\n",
    "    output_schema = ModelOutput\n",
    "\n",
    "    def __init__(self):\n",
    "        pass\n",
    "\n",
    "    def predict(self, data: ModelInput) -> ModelOutput:\n",
    "        return ModelOutput(species=\"Iris setosa\")"
   ]
  },
  {
   "cell_type": "markdown",
   "id": "1d2678d1",
   "metadata": {},
   "source": [
    "This class mocks the input and output of the IrisModel we used in the previous example. The mocked model will always return a prediction of \"Iris setosa\". We'll instantiate it to make sure that everything works:"
   ]
  },
  {
   "cell_type": "code",
   "execution_count": 3,
   "id": "c859b13d",
   "metadata": {},
   "outputs": [
    {
     "data": {
      "text/plain": [
       "ModelOutput(species=<Species.iris_setosa: 'Iris setosa'>)"
      ]
     },
     "execution_count": 3,
     "metadata": {},
     "output_type": "execute_result"
    }
   ],
   "source": [
    "model = IrisModelMock()\n",
    "\n",
    "prediction = model.predict(\n",
    "    ModelInput(sepal_length=5.1,\n",
    "               sepal_width=2.2,\n",
    "               petal_length=1.2,\n",
    "               petal_width=1.3))\n",
    "\n",
    "prediction"
   ]
  },
  {
   "cell_type": "markdown",
   "id": "21f08bc3",
   "metadata": {},
   "source": [
    "## Creating a Simple Decorator Class\n",
    "\n",
    "To create a decorator for MLModel classes, we'll inherit from the MLModelDecorator class:"
   ]
  },
  {
   "cell_type": "code",
   "execution_count": 4,
   "id": "0b9b741a",
   "metadata": {},
   "outputs": [],
   "source": [
    "from ml_base import MLModelDecorator\n",
    "from ml_base.ml_model import MLModelException\n",
    "\n",
    "\n",
    "class SimpleDecorator(MLModelDecorator):\n",
    "    pass"
   ]
  },
  {
   "cell_type": "markdown",
   "id": "6c75d014",
   "metadata": {},
   "source": [
    "The decorator doesn't do anything but it's still useful because it inherits default behavior from the base class. In order to wrap the model instance with a decorator instance, we instantiate the decorator like this:"
   ]
  },
  {
   "cell_type": "code",
   "execution_count": 5,
   "id": "951266a8",
   "metadata": {},
   "outputs": [],
   "source": [
    "decorator = SimpleDecorator(model)"
   ]
  },
  {
   "cell_type": "markdown",
   "id": "ed157cab",
   "metadata": {},
   "source": [
    "Now we can make a prediction with the model just like we normally would:"
   ]
  },
  {
   "cell_type": "code",
   "execution_count": 6,
   "id": "4c61fcb6",
   "metadata": {},
   "outputs": [
    {
     "name": "stdout",
     "output_type": "stream",
     "text": [
      "species=<Species.iris_setosa: 'Iris setosa'>\n"
     ]
    }
   ],
   "source": [
    "prediction = decorator.predict(\n",
    "    ModelInput(sepal_length=5.1,\n",
    "               sepal_width=2.2,\n",
    "               petal_length=1.2,\n",
    "               petal_width=1.3))\n",
    "\n",
    "print(prediction)"
   ]
  },
  {
   "cell_type": "markdown",
   "id": "e60f072d",
   "metadata": {},
   "source": [
    "The decorator's default implementation of the predict method does nothing but call the corresponding method in the model instance. The same is true for the other parts of the MLModel API."
   ]
  },
  {
   "cell_type": "code",
   "execution_count": 7,
   "id": "87d0dda3",
   "metadata": {},
   "outputs": [
    {
     "name": "stdout",
     "output_type": "stream",
     "text": [
      "Iris Model\n",
      "iris_model\n",
      "A model to predict the species of a flower based on its measurements.\n",
      "1.0.0\n",
      "<class '__main__.ModelInput'>\n",
      "<class '__main__.ModelOutput'>\n"
     ]
    }
   ],
   "source": [
    "print(decorator.display_name)\n",
    "print(decorator.qualified_name)\n",
    "print(decorator.description)\n",
    "print(decorator.version)\n",
    "print(decorator.input_schema)\n",
    "print(decorator.output_schema)"
   ]
  },
  {
   "cell_type": "markdown",
   "id": "716b2efa",
   "metadata": {},
   "source": [
    "## Creating an MLModelDecorator With Behavior\n",
    "\n",
    "The example above wasn't very useful because it didn't do anything. We'll override the default implementation of the MLModelDecorator base class in order to add some behavior.\n",
    "\n",
    "This decorator executes around the predict() method:"
   ]
  },
  {
   "cell_type": "code",
   "execution_count": 8,
   "id": "9b546171",
   "metadata": {},
   "outputs": [],
   "source": [
    "class SimplePredictDecorator(MLModelDecorator):\n",
    "\n",
    "    def predict(self, data):\n",
    "        print(\"Executing before prediction.\")\n",
    "        prediction = self._model.predict(data=data)\n",
    "        print(\"Executing after prediction.\")\n",
    "        return prediction"
   ]
  },
  {
   "cell_type": "markdown",
   "id": "c8ffc36e",
   "metadata": {},
   "source": [
    "The decorator wraps around the predict() method and does nothing except print a message before and after executing the predict method of the model.\n",
    "\n",
    "We can try it out by wrapping the model instance again:"
   ]
  },
  {
   "cell_type": "code",
   "execution_count": 9,
   "id": "097421d2",
   "metadata": {},
   "outputs": [],
   "source": [
    "decorator = SimplePredictDecorator(model)"
   ]
  },
  {
   "cell_type": "markdown",
   "id": "84cea397",
   "metadata": {},
   "source": [
    "Now, we'll call the predict method:"
   ]
  },
  {
   "cell_type": "code",
   "execution_count": 10,
   "id": "fbb4ca9c",
   "metadata": {},
   "outputs": [
    {
     "name": "stdout",
     "output_type": "stream",
     "text": [
      "Executing before prediction.\n",
      "Executing after prediction.\n"
     ]
    },
    {
     "data": {
      "text/plain": [
       "ModelOutput(species=<Species.iris_setosa: 'Iris setosa'>)"
      ]
     },
     "execution_count": 10,
     "metadata": {},
     "output_type": "execute_result"
    }
   ],
   "source": [
    "prediction = decorator.predict(ModelInput(\n",
    "    sepal_length=5.1,\n",
    "    sepal_width=2.1,\n",
    "    petal_length=1.2,\n",
    "    petal_width=1.3))\n",
    "\n",
    "prediction"
   ]
  },
  {
   "cell_type": "markdown",
   "id": "86be7d24",
   "metadata": {},
   "source": [
    "The decorator instance executed before and after the model's predict() method and printed some messages."
   ]
  },
  {
   "cell_type": "markdown",
   "id": "e382f4af",
   "metadata": {},
   "source": [
    "## A More Complex Decorator\n",
    "\n",
    "The MLModelDecorator class is able to \"wrap\" every method and property in the MLModel base class. We'll build a more complex MLModelDecorator to show how this works:"
   ]
  },
  {
   "cell_type": "code",
   "execution_count": 11,
   "id": "f782e420",
   "metadata": {},
   "outputs": [],
   "source": [
    "class ComplexDecorator(MLModelDecorator):\n",
    "    \n",
    "    @property\n",
    "    def display_name(self) -> str:\n",
    "        return self._model.display_name + \" extra\"\n",
    "    \n",
    "    @property\n",
    "    def qualified_name(self) -> str:\n",
    "        return self._model.qualified_name + \" extra\"\n",
    "    \n",
    "    @property\n",
    "    def description(self) -> str:\n",
    "        return self._model.description + \" extra\"\n",
    "    \n",
    "    @property\n",
    "    def version(self) -> str:\n",
    "        return self._model.version + \" extra\"\n",
    "    \n",
    "    def predict(self, data):\n",
    "        print(\"Executing before prediction.\")\n",
    "        prediction = self._model.predict(data=data)\n",
    "        print(\"Executing after prediction.\")\n",
    "        return prediction"
   ]
  },
  {
   "cell_type": "code",
   "execution_count": 12,
   "id": "21b19da6",
   "metadata": {},
   "outputs": [
    {
     "name": "stdout",
     "output_type": "stream",
     "text": [
      "Iris Model extra\n",
      "iris_model extra\n",
      "A model to predict the species of a flower based on its measurements. extra\n",
      "1.0.0 extra\n"
     ]
    }
   ],
   "source": [
    "complex_decorator = ComplexDecorator(model)\n",
    "\n",
    "print(complex_decorator.display_name)\n",
    "print(complex_decorator.qualified_name)\n",
    "print(complex_decorator.description)\n",
    "print(complex_decorator.version)"
   ]
  },
  {
   "cell_type": "markdown",
   "id": "1a65215a",
   "metadata": {},
   "source": [
    "The properties of the MLModel instance were modifyied by adding the word \"extra\" to them, including the input and output schemas, although it would not be a good idea to convert the schema classes to strings in a normal situation.\n",
    "\n",
    "Any other methods, attributes, or properties of an MLModel class that are not part of the MLModel interface are not modified by MLModelDecorator instances that are wrapping them. To show this we'll create an MLModel class with some extra attributes:"
   ]
  },
  {
   "cell_type": "code",
   "execution_count": 13,
   "id": "6d2c99e6",
   "metadata": {},
   "outputs": [],
   "source": [
    "class IrisModelMockWithExtraAttributes(MLModel):\n",
    "    display_name = \"Iris Model\"\n",
    "    qualified_name = \"iris_model\"\n",
    "    description = \"A model to predict the species of a flower based on its measurements.\"\n",
    "    version = \"1.0.0\"\n",
    "    input_schema = ModelInput\n",
    "    output_schema = ModelOutput\n",
    "    \n",
    "    def __init__(self):\n",
    "        self.extra_attribute = \"extra_attribute\"\n",
    "    \n",
    "    def predict(self, data: ModelInput) -> ModelOutput:\n",
    "        return ModelOutput(species=\"Iris setosa\")\n",
    "    \n",
    "    @property\n",
    "    def extra_property(self):\n",
    "        return \"extra_property\"\n",
    "    \n",
    "    def extra_method(self):\n",
    "        return \"extra_method\""
   ]
  },
  {
   "cell_type": "code",
   "execution_count": 14,
   "id": "b91bab41",
   "metadata": {},
   "outputs": [
    {
     "name": "stdout",
     "output_type": "stream",
     "text": [
      "extra_attribute\n",
      "extra_property\n",
      "extra_method\n"
     ]
    }
   ],
   "source": [
    "model = IrisModelMockWithExtraAttributes()\n",
    "\n",
    "decorator = ComplexDecorator(model)\n",
    "\n",
    "print(decorator.extra_attribute)\n",
    "print(decorator.extra_property)\n",
    "print(decorator.extra_method())"
   ]
  },
  {
   "cell_type": "markdown",
   "id": "6abb3b36",
   "metadata": {},
   "source": [
    "The MLModelDecorator class is designed to execute around the public API of the MLModel base class and stay out of the way of any other part of an MLModel instance.\n",
    "\n",
    "When implementing decorators, its important to remember to call the method or return the property of the model instance itself, otherwise the decorator would no longer decorate the model, it would just replace it."
   ]
  },
  {
   "cell_type": "markdown",
   "id": "cb77185e",
   "metadata": {},
   "source": [
    "## Setting the Model After Initialization\n",
    "\n",
    "The MLModelDecorator can also be instantiated without a reference to an MLModel instance to decorate."
   ]
  },
  {
   "cell_type": "code",
   "execution_count": 15,
   "id": "74ee295b",
   "metadata": {},
   "outputs": [
    {
     "data": {
      "text/plain": [
       "ComplexDecorator(None)"
      ]
     },
     "execution_count": 15,
     "metadata": {},
     "output_type": "execute_result"
    }
   ],
   "source": [
    "decorator = ComplexDecorator()\n",
    "\n",
    "decorator"
   ]
  },
  {
   "cell_type": "markdown",
   "id": "00bc40f4",
   "metadata": {},
   "source": [
    "When we print the decorator, whe model reference inside shows up as \"None\".\n",
    "\n",
    "If we try to execute access the API of the decorator, we'll get an error:"
   ]
  },
  {
   "cell_type": "code",
   "execution_count": 16,
   "id": "3b88ed51",
   "metadata": {},
   "outputs": [
    {
     "name": "stdout",
     "output_type": "stream",
     "text": [
      "'NoneType' object has no attribute 'version'\n"
     ]
    }
   ],
   "source": [
    "try:\n",
    "    decorator.version\n",
    "except Exception as e:\n",
    "    print(e)"
   ]
  },
  {
   "cell_type": "markdown",
   "id": "36da1f2b",
   "metadata": {},
   "source": [
    "To set the model instances after initialization, we can use the set_model() method."
   ]
  },
  {
   "cell_type": "code",
   "execution_count": 17,
   "id": "e5054b50",
   "metadata": {},
   "outputs": [
    {
     "data": {
      "text/plain": [
       "ComplexDecorator(IrisModelMockWithExtraAttributes)"
      ]
     },
     "execution_count": 17,
     "metadata": {},
     "output_type": "execute_result"
    }
   ],
   "source": [
    "decorator.set_model(model)\n",
    "\n",
    "decorator"
   ]
  },
  {
   "cell_type": "markdown",
   "id": "7f81183e",
   "metadata": {},
   "source": [
    "Accessing the decorator now accesses the model as show above:"
   ]
  },
  {
   "cell_type": "code",
   "execution_count": 18,
   "id": "668472a7",
   "metadata": {},
   "outputs": [
    {
     "data": {
      "text/plain": [
       "'1.0.0 extra'"
      ]
     },
     "execution_count": 18,
     "metadata": {},
     "output_type": "execute_result"
    }
   ],
   "source": [
    "decorator.version"
   ]
  },
  {
   "cell_type": "markdown",
   "id": "306226cb",
   "metadata": {},
   "source": [
    "## Displaying the Decorator\n",
    "\n",
    "Once a model instance has been decorated, we can see that it is decorating when we print it:"
   ]
  },
  {
   "cell_type": "code",
   "execution_count": 19,
   "id": "4cb0c76c",
   "metadata": {},
   "outputs": [
    {
     "data": {
      "text/plain": [
       "ComplexDecorator(IrisModelMockWithExtraAttributes)"
      ]
     },
     "execution_count": 19,
     "metadata": {},
     "output_type": "execute_result"
    }
   ],
   "source": [
    "decorator"
   ]
  },
  {
   "cell_type": "markdown",
   "id": "8c2e18ff",
   "metadata": {},
   "source": [
    "The ComplexDecorator is wrapping an instance of MLModelMock.\n",
    "\n",
    "If we add another decorator, we can see it is decorated again:"
   ]
  },
  {
   "cell_type": "code",
   "execution_count": 20,
   "id": "1acb8359",
   "metadata": {},
   "outputs": [
    {
     "data": {
      "text/plain": [
       "SimplePredictDecorator(ComplexDecorator(IrisModelMockWithExtraAttributes))"
      ]
     },
     "execution_count": 20,
     "metadata": {},
     "output_type": "execute_result"
    }
   ],
   "source": [
    "decorator = SimplePredictDecorator(decorator)\n",
    "\n",
    "decorator"
   ]
  },
  {
   "cell_type": "markdown",
   "id": "5cb5e40a",
   "metadata": {},
   "source": [
    "Decorators can decorate other instances of decorators because they have the same API as MLModel."
   ]
  },
  {
   "cell_type": "markdown",
   "id": "9c7d2972",
   "metadata": {},
   "source": [
    "## Creating an Exception Handler Decorator\n",
    "\n",
    "To show a real example of what a decorator can do, we'll create a decorator that handles exceptions raised in the predict() method and logs them."
   ]
  },
  {
   "cell_type": "code",
   "execution_count": 21,
   "id": "395d2e99",
   "metadata": {},
   "outputs": [],
   "source": [
    "import logging\n",
    "\n",
    "\n",
    "logger = logging.getLogger(__name__)\n",
    "\n",
    "\n",
    "class ExceptionLoggerDecorator(MLModelDecorator):\n",
    "    \n",
    "    def predict(self, data):\n",
    "        try:\n",
    "            return self._model.predict(data=data)\n",
    "        except Exception as e:\n",
    "            logger.exception(\"Exception in the predict() method of {}.\".format(str(self._model)))\n"
   ]
  },
  {
   "cell_type": "markdown",
   "id": "639b9afc",
   "metadata": {},
   "source": [
    "We'll need to raise an exception in the model class' predict() method in order to try this out, so we'll redefine the IrisModelMock class to raise an exception:"
   ]
  },
  {
   "cell_type": "code",
   "execution_count": 22,
   "id": "442414df",
   "metadata": {},
   "outputs": [],
   "source": [
    "class IrisModelMock(MLModel):\n",
    "    display_name = \"Iris Model\"\n",
    "    qualified_name = \"iris_model\"\n",
    "    description = \"A model to predict the species of a flower based on its measurements.\"\n",
    "    version = \"1.0.0\"\n",
    "    input_schema = ModelInput\n",
    "    output_schema = ModelOutput\n",
    "\n",
    "    def __init__(self):\n",
    "        pass\n",
    "    \n",
    "    def predict(self, data):\n",
    "        raise Exception(\"Exception!\")"
   ]
  },
  {
   "cell_type": "markdown",
   "id": "1cefc056",
   "metadata": {},
   "source": [
    "Now all we need is to instantiate the MLModel class and the decorator to try it out:"
   ]
  },
  {
   "cell_type": "code",
   "execution_count": 23,
   "id": "ab748f86",
   "metadata": {},
   "outputs": [
    {
     "name": "stderr",
     "output_type": "stream",
     "text": [
      "Exception in the predict() method of IrisModelMock.\n",
      "Traceback (most recent call last):\n",
      "  File \"<ipython-input-21-ea4dab4c8b70>\", line 11, in predict\n",
      "    return self._model.predict(data=data)\n",
      "  File \"<ipython-input-22-79739fa901dd>\", line 13, in predict\n",
      "    raise Exception(\"Exception!\")\n",
      "Exception: Exception!\n"
     ]
    }
   ],
   "source": [
    "model = IrisModelMock()\n",
    "\n",
    "decorator = ExceptionLoggerDecorator(model)\n",
    "\n",
    "# making a failing prediction\n",
    "prediction = decorator.predict(ModelInput(\n",
    "    sepal_length=5.1,\n",
    "    sepal_width=2.1,\n",
    "    petal_length=1.2,\n",
    "    petal_width=1.3))"
   ]
  },
  {
   "cell_type": "markdown",
   "id": "ff6fc708",
   "metadata": {},
   "source": [
    "The exception was caught by the decorator and logged."
   ]
  },
  {
   "cell_type": "markdown",
   "id": "6ad7b974",
   "metadata": {},
   "source": [
    "## Configurable MLModel Decorator\n",
    "\n",
    "Next, we'll build an MLModelDecorator that can be configured."
   ]
  },
  {
   "cell_type": "code",
   "execution_count": 24,
   "id": "26bc6ba4",
   "metadata": {},
   "outputs": [],
   "source": [
    "class AddStringDecorator(MLModelDecorator):\n",
    "    \n",
    "    def __init__(self, model: MLModel, extra_name: str) -> None:\n",
    "        super().__init__(model, extra_name=extra_name)\n",
    "\n",
    "    @property\n",
    "    def display_name(self) -> str:\n",
    "        return self._model.display_name + self._configuration[\"extra_name\"]"
   ]
  },
  {
   "cell_type": "markdown",
   "id": "ed1d12c9",
   "metadata": {},
   "source": [
    "The \\_\\_init\\_\\_() method receives the normal \"model\" parameter and passes it to the super class. It also receives a parameter called \"extra_name\" which is also passed to the super class as a keyword argument. Each configuration items should be passed to the super class in this way.\n",
    "\n",
    "\n",
    "\n",
    "The decorator adds a string to the display_name property of the model object:"
   ]
  },
  {
   "cell_type": "code",
   "execution_count": 25,
   "id": "56d60752",
   "metadata": {},
   "outputs": [],
   "source": [
    "model = IrisModelMock()\n",
    "\n",
    "decorator = AddStringDecorator(model, extra_name=\" extra name\")"
   ]
  },
  {
   "cell_type": "markdown",
   "id": "7addb333",
   "metadata": {},
   "source": [
    "Now when we access the properties, we'll get the string we configured added to the end:"
   ]
  },
  {
   "cell_type": "code",
   "execution_count": 26,
   "id": "3ffa3c03",
   "metadata": {},
   "outputs": [
    {
     "name": "stdout",
     "output_type": "stream",
     "text": [
      "Iris Model extra name\n"
     ]
    }
   ],
   "source": [
    "print(decorator.display_name)"
   ]
  },
  {
   "cell_type": "markdown",
   "id": "5c403b28",
   "metadata": {},
   "source": [
    "Once the configuration has been passed to the MLModelDecorator super class as a keyword argument, it is saved in the \"\\_configuration\" attribute and can be accessed by the methods in the decorator class.\n",
    "\n",
    "This also means that the \"\\_configuration\" and \"\\_model\" names are reserved within MLModelDecorator classes because they are being used by the base class.\n",
    "\n",
    "You can also set the values in the \"\\_configuration\" and \"\\_model\" attributes of the decorator:"
   ]
  },
  {
   "cell_type": "code",
   "execution_count": 27,
   "id": "1a859a64",
   "metadata": {},
   "outputs": [
    {
     "data": {
      "text/plain": [
       "{'extra_name': ' extra name', 'asdf': 'asdf'}"
      ]
     },
     "execution_count": 27,
     "metadata": {},
     "output_type": "execute_result"
    }
   ],
   "source": [
    "decorator._configuration[\"asdf\"] = \"asdf\"\n",
    "\n",
    "decorator._configuration"
   ]
  },
  {
   "cell_type": "markdown",
   "id": "11a27a5d",
   "metadata": {},
   "source": [
    "## Adding the Decorated Model to the ModelManager\n",
    "\n",
    "Adding a decorated model to the ModelManager singleton is simple. First we'll create a decorated model:"
   ]
  },
  {
   "cell_type": "code",
   "execution_count": 28,
   "id": "8092a61e",
   "metadata": {},
   "outputs": [],
   "source": [
    "model = IrisModelMock()\n",
    "\n",
    "decorated_model = SimpleDecorator(model)"
   ]
  },
  {
   "cell_type": "markdown",
   "id": "8d10e0f3",
   "metadata": {},
   "source": [
    "Next, we'll create the ModelManager:"
   ]
  },
  {
   "cell_type": "code",
   "execution_count": 29,
   "id": "b21addda",
   "metadata": {},
   "outputs": [],
   "source": [
    "from ml_base.utilities import ModelManager\n",
    "\n",
    "\n",
    "model_manager = ModelManager()"
   ]
  },
  {
   "cell_type": "markdown",
   "id": "6427a823",
   "metadata": {},
   "source": [
    "Finally, we'll add the decorated model as we normally would:"
   ]
  },
  {
   "cell_type": "code",
   "execution_count": 30,
   "id": "cfbebb4e",
   "metadata": {},
   "outputs": [
    {
     "data": {
      "text/plain": [
       "{'display_name': 'Iris Model',\n",
       " 'qualified_name': 'iris_model',\n",
       " 'description': 'A model to predict the species of a flower based on its measurements.',\n",
       " 'version': '1.0.0',\n",
       " 'input_schema': {'title': 'ModelInput',\n",
       "  'type': 'object',\n",
       "  'properties': {'sepal_length': {'title': 'Sepal Length',\n",
       "    'exclusiveMinimum': 5.0,\n",
       "    'exclusiveMaximum': 8.0,\n",
       "    'type': 'number'},\n",
       "   'sepal_width': {'title': 'Sepal Width',\n",
       "    'exclusiveMinimum': 2.0,\n",
       "    'exclusiveMaximum': 6.0,\n",
       "    'type': 'number'},\n",
       "   'petal_length': {'title': 'Petal Length',\n",
       "    'exclusiveMinimum': 1.0,\n",
       "    'exclusiveMaximum': 6.8,\n",
       "    'type': 'number'},\n",
       "   'petal_width': {'title': 'Petal Width',\n",
       "    'exclusiveMinimum': 0.0,\n",
       "    'exclusiveMaximum': 3.0,\n",
       "    'type': 'number'}},\n",
       "  'required': ['sepal_length', 'sepal_width', 'petal_length', 'petal_width']},\n",
       " 'output_schema': {'title': 'ModelOutput',\n",
       "  'type': 'object',\n",
       "  'properties': {'species': {'$ref': '#/definitions/Species'}},\n",
       "  'required': ['species'],\n",
       "  'definitions': {'Species': {'title': 'Species',\n",
       "    'description': 'An enumeration.',\n",
       "    'enum': ['Iris setosa', 'Iris versicolor', 'Iris virginica'],\n",
       "    'type': 'string'}}}}"
      ]
     },
     "execution_count": 30,
     "metadata": {},
     "output_type": "execute_result"
    }
   ],
   "source": [
    "model_manager.add_model(decorated_model)\n",
    "\n",
    "model_manager.get_model_metadata(\"iris_model\")"
   ]
  },
  {
   "cell_type": "markdown",
   "id": "611b322c",
   "metadata": {},
   "source": [
    "The ModelManager is able to work with the decorated model object because it has the same interface as MLModel."
   ]
  },
  {
   "cell_type": "code",
   "execution_count": 31,
   "id": "31df564c",
   "metadata": {},
   "outputs": [],
   "source": [
    "model_manager.clear_instance()"
   ]
  },
  {
   "cell_type": "markdown",
   "id": "e1ca1e29",
   "metadata": {},
   "source": [
    "## Adding a Decorator to a Model in the ModelManager\n",
    "\n",
    "The ModelManager also has support for decorating models that are already held inside by using the add_decorator() method:"
   ]
  },
  {
   "cell_type": "code",
   "execution_count": 32,
   "id": "6fb5bf93",
   "metadata": {},
   "outputs": [
    {
     "name": "stdout",
     "output_type": "stream",
     "text": [
      "[{'display_name': 'Iris Model', 'qualified_name': 'iris_model', 'description': 'A model to predict the species of a flower based on its measurements.', 'version': '1.0.0'}]\n"
     ]
    }
   ],
   "source": [
    "from ml_base.utilities import ModelManager\n",
    "\n",
    "model_manager = ModelManager()\n",
    "\n",
    "model = IrisModelMock()\n",
    "\n",
    "model_manager.add_model(model)\n",
    "\n",
    "print(model_manager.get_models())"
   ]
  },
  {
   "cell_type": "code",
   "execution_count": 33,
   "id": "d833729f",
   "metadata": {},
   "outputs": [],
   "source": [
    "decorator = SimpleDecorator()\n",
    "\n",
    "model_manager.add_decorator(\"iris_model\", decorator)"
   ]
  },
  {
   "cell_type": "markdown",
   "id": "59bf0473",
   "metadata": {},
   "source": [
    "When we access the model instance, we can see that it is now decorated:"
   ]
  },
  {
   "cell_type": "code",
   "execution_count": 34,
   "id": "592de389",
   "metadata": {},
   "outputs": [
    {
     "data": {
      "text/plain": [
       "SimpleDecorator(IrisModelMock)"
      ]
     },
     "execution_count": 34,
     "metadata": {},
     "output_type": "execute_result"
    }
   ],
   "source": [
    "model = model_manager.get_model(\"iris_model\")\n",
    "\n",
    "model"
   ]
  }
 ],
 "metadata": {
  "kernelspec": {
   "display_name": "Python 3",
   "language": "python",
   "name": "python3"
  },
  "language_info": {
   "codemirror_mode": {
    "name": "ipython",
    "version": 3
   },
   "file_extension": ".py",
   "mimetype": "text/x-python",
   "name": "python",
   "nbconvert_exporter": "python",
   "pygments_lexer": "ipython3",
   "version": "3.8.10"
  }
 },
 "nbformat": 4,
 "nbformat_minor": 5
}
