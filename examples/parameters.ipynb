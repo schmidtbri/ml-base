{
 "cells": [
  {
   "cell_type": "raw",
   "id": "front-catalyst",
   "metadata": {},
   "source": [
    "Title: Managing Model Parameters\n",
    "Date: 2021-09-21 07:54\n",
    "Category: Blog\n",
    "Slug: managing-model-parameters\n",
    "Authors: Brian Schmidt\n",
    "Summary: "
   ]
  },
  {
   "cell_type": "markdown",
   "id": "employed-compromise",
   "metadata": {},
   "source": [
    "# Managing Model Parameters\n",
    "\n",
    "The MLModel base class dictates that the version of the model should be returned from the “version” property. This version refers to the code version of the model, and does not contain any information about the version of the parameters that the model object contains. This is necessary because the model can vary along two dimensions: the code and the parameters. The code associated with a model version is a combination of the code used to train the model parameters and the code used to make predictions with the model parameters. Both the training and prediction code work together and a set of model parameters trained with a different training codebase will not work with a different version of the prediction codebase.\n",
    "\n",
    "Model parameters are the data that a model uses to make predictions. A set of model parameters is the result of a training run.\n",
    "\n",
    "To manage model parameters, we'll need to do two things: \n",
    "\n",
    "- make information about the parameters available to the user of our model\n",
    "- enable the user to instantiate the model with any parameters that they choose\n",
    "\n",
    "The main goals of this approach to managing model parameters is to hide the implementation details of the parameters that are being used by the model object. We want to do this so that the user of the model does not need know any of the internal implementation details of our model in order to be able to use it.\n"
   ]
  },
  {
   "cell_type": "markdown",
   "id": "friendly-disney",
   "metadata": {},
   "source": [
    "The relationship between model code and model parameters can be hard to understand. Each version of the code can work with a set of parameters that it is designed to work with. To keep things simple, we can just think of it as adding an element to the normal semantic versioning triplet. So model code version 3.2.1.0 is the model instance that is running code version “3.2.1” and is hosting the parameters version “0”. When the model is retrained a new set of parameters is created, but the code version remains the same, so we get version “3.2.1.1”. If the code of the model changes, we can create a new semantic version such as “3.3.0” and we start the parameters versioning from 0 again, so the first set of parameters will be “3.3.0.0”."
   ]
  },
  {
   "cell_type": "code",
   "execution_count": 1,
   "id": "intelligent-rolling",
   "metadata": {},
   "outputs": [],
   "source": [
    "import sys\n",
    "\n",
    "sys.path.insert(0, \"../\")\n",
    "\n",
    "from IPython.display import clear_output"
   ]
  },
  {
   "cell_type": "code",
   "execution_count": 2,
   "id": "sunset-frank",
   "metadata": {},
   "outputs": [],
   "source": [
    "# !pip install ml_base\n",
    "# clear_output()"
   ]
  },
  {
   "cell_type": "markdown",
   "id": "diverse-honey",
   "metadata": {},
   "source": [
    "## Training a Model\n",
    "\n",
    "We'll be building a model using scikit-learn so we need to install it:"
   ]
  },
  {
   "cell_type": "code",
   "execution_count": 3,
   "id": "varied-techno",
   "metadata": {},
   "outputs": [],
   "source": [
    "!pip install scikit-learn\n",
    "!pip install pandas\n",
    "\n",
    "clear_output()"
   ]
  },
  {
   "cell_type": "markdown",
   "id": "ceramic-costs",
   "metadata": {},
   "source": [
    "In order to show how we can more easily manage parameters with the MLModel base class, we'll first need a model to work with. I created a function that trains a model on the so that I can generate a new model easily:"
   ]
  },
  {
   "cell_type": "code",
   "execution_count": 4,
   "id": "8b391571",
   "metadata": {},
   "outputs": [],
   "source": [
    "from sklearn import datasets\n",
    "from sklearn import svm\n",
    "from sklearn.model_selection import train_test_split\n",
    "from sklearn.metrics import accuracy_score\n",
    "\n",
    "X, y = datasets.load_iris(return_X_y=True)\n",
    "\n",
    "def train_model(random_state: int):\n",
    "    \n",
    "    X_train, X_test, y_train, y_test = train_test_split(X, y, test_size=0.2, random_state=random_state)\n",
    "    model = svm.SVC(gamma=1.0, C=1.0)\n",
    "    \n",
    "    model.fit(X_train, y_train)\n",
    "    predictions = model.predict(X_test)\n",
    "    \n",
    "    accuracy = accuracy_score(y_test, predictions)\n",
    "    \n",
    "    training_set_size = len(X_train)\n",
    "    testing_set_size = len(X_test)\n",
    "\n",
    "    return model, accuracy, training_set_size, testing_set_size"
   ]
  },
  {
   "cell_type": "code",
   "execution_count": 5,
   "id": "demographic-dimension",
   "metadata": {},
   "outputs": [
    {
     "name": "stdout",
     "output_type": "stream",
     "text": [
      "Model:  SVC(gamma=1.0)\n",
      "Accuracy:  1.0\n"
     ]
    }
   ],
   "source": [
    "model, accuracy, training_set_size, testing_set_size = train_model(random_state=42)\n",
    "\n",
    "print(\"Model: \", model)\n",
    "print(\"Accuracy: \", accuracy)"
   ]
  },
  {
   "cell_type": "markdown",
   "id": "atomic-period",
   "metadata": {},
   "source": [
    "The \"model\" variable contains a reference to the model object which contains the model parameters."
   ]
  },
  {
   "cell_type": "markdown",
   "id": "seventh-kingston",
   "metadata": {},
   "source": [
    "## Saving Model Parameters\n",
    "\n",
    "To manage model parameters, we'll need to save them in a standard format. The pickle format is a simple way to do this, so we'll use it but there are other options as well. We also need to save some metadata about the model parameters that we'll save alongside the model parameters.\n",
    "\n",
    "First, we'll save the model parameters themselves into a bytes array using the pickle package:"
   ]
  },
  {
   "cell_type": "code",
   "execution_count": 6,
   "id": "accomplished-television",
   "metadata": {},
   "outputs": [],
   "source": [
    "import pickle\n",
    "\n",
    "\n",
    "model_bytes = pickle.dumps(model)"
   ]
  },
  {
   "cell_type": "markdown",
   "id": "removable-favor",
   "metadata": {},
   "source": [
    "We'll also need to save some metadata, we'll define it here in a dictionary:"
   ]
  },
  {
   "cell_type": "code",
   "execution_count": 7,
   "id": "electric-tobacco",
   "metadata": {},
   "outputs": [],
   "source": [
    "from datetime import datetime\n",
    "\n",
    "\n",
    "model_parameters_metadata = {\n",
    "    \"model_qualified_name\": \"iris_model\",\n",
    "    \"model_version\": \"0.1.0\",\n",
    "    \"model_parameters_version\": \"1\",\n",
    "    \"description\": \"A model to predict the species of a flower based on its measurements.\",\n",
    "    \"creation_timestamp\": datetime.utcnow(),\n",
    "    \"author\": \"Brian Schmidt\",\n",
    "    \"author_email\": \"6666331+schmidtbri@users.noreply.github.com\",\n",
    "    \"metadata\": {\n",
    "        \"training_set_size\": training_set_size,\n",
    "        \"testing_set_size\": testing_set_size,\n",
    "        \"accuracy\": accuracy\n",
    "    },\n",
    "    \"dependencies\": [\n",
    "        \"scikit-learn==0.24.2\"\n",
    "        \"pandas==1.3.3\"\n",
    "    ]\n",
    "}"
   ]
  },
  {
   "cell_type": "markdown",
   "id": "civic-perth",
   "metadata": {},
   "source": [
    "The data structure that we defined above can also be created by using the ModelParametersMetadata type, which is defined in the ml_base.schemas module. We'll paste the code here for clarity:"
   ]
  },
  {
   "cell_type": "code",
   "execution_count": 8,
   "id": "directed-organizer",
   "metadata": {},
   "outputs": [],
   "source": [
    "from typing import Dict, List, Any, Optional\n",
    "from pydantic import BaseModel, Field\n",
    "from datetime import datetime\n",
    "\n",
    "\n",
    "class ModelParametersMetadata(BaseModel):\n",
    "    model_qualified_name: str = Field(description=\"Qualified name of the model to which these parameters belong.\")\n",
    "    model_version: str = Field(description=\"Model code version that these parameters belong to.\")\n",
    "    model_parameters_version: str = Field(description=\"Version of the model parameters.\")\n",
    "    creation_timestamp: datetime = Field(description=\"Datetime when the model parameters were created.\")\n",
    "    description: Optional[str] = Field(description=\"Short description for the model parameters.\")\n",
    "    author: Optional[str] = Field(description=\"Name of person who created the model parameters.\")\n",
    "    author_email: Optional[str] = Field(description=\"Email of person who created the model parameters.\")\n",
    "    tags: Optional[List[str]] = Field(description=\"List of strings that hold information about the parameters.\")\n",
    "    metadata: Optional[Dict[str, Any]] = Field(description=\"Key value pairs containing any extra metadata about the \"\n",
    "                                                           \"model parameters.\")\n",
    "    dependencies: Optional[List[str]] = Field(description=\"List of code dependencies.\")"
   ]
  },
  {
   "cell_type": "markdown",
   "id": "pending-answer",
   "metadata": {},
   "source": [
    "The information is meant to fully describe a set of parameters for a given model. The fields are described in the code, but we'll go through them here:\n",
    "\n",
    "- model_qualified_name: the qualified name of the model to which these parameters belong, this means that the MLModel class that has this qualified name should be able to open the model parameters and use them to make a prediction.\n",
    "- model_version: the version of the model class with which these model parameters should work, this ties together the code of the model class with the parameters so that we can evolve the code safely in the future.\n",
    "- model_parameters_version: the version of the parameters, this is open ended and can be an integer, a datetime, or a guid, but it should uniquely identify these model parameters.\n",
    "- creation_timestamp: the date and time when these model parameters where created\n",
    "- description: a general description of what these model parameters are, this is an optional field\n",
    "- author: the name or username of the author who created these model parameters, this is an optional field\n",
    "- author_email: the email of the author who created these model parameters, this is an optional field\n",
    "- tags: a list of strings that describe the parameters, this is open-ended and can be useful to store metadata about the model parameters, this is an optional field.\n",
    "- metadata: a dictionary that can store key value pairs with information about the model parameters, this is also open-ended and is similar to tags, this is an optional field.\n",
    "- dependencies: a list of dependencies that the model parameters require in order to work, this is an optional field.\n",
    "\n",
    "Now that we have a type associated with the parameter metadata, we'll use it to hold the information that we previously had in a dictionary above:"
   ]
  },
  {
   "cell_type": "code",
   "execution_count": 9,
   "id": "impressed-boating",
   "metadata": {},
   "outputs": [],
   "source": [
    "from ml_base.schemas import ModelParametersMetadata\n",
    "\n",
    "model_parameters_metadata = ModelParametersMetadata(\n",
    "    model_qualified_name=\"iris_model\",\n",
    "    model_version=\"0.1.0\",\n",
    "    model_parameters_version=\"1\",\n",
    "    description=\"A model to predict the species of a flower based on its measurements.\",\n",
    "    creation_timestamp=datetime.utcnow(),\n",
    "    author=\"Brian Schmidt\",\n",
    "    author_email=\"6666331+schmidtbri@users.noreply.github.com\",\n",
    "    metadata={\n",
    "        \"training_set_size\": training_set_size,\n",
    "        \"testing_set_size\": testing_set_size,\n",
    "        \"accuracy\": accuracy\n",
    "    },\n",
    "    dependencies=[\n",
    "        \"scikit-learn==0.24.2\",\n",
    "        \"pandas==1.3.3\"\n",
    "    ])"
   ]
  },
  {
   "cell_type": "markdown",
   "id": "reserved-arkansas",
   "metadata": {},
   "source": [
    "The model metadata is not strictly required for storing the model parameters, but it becomes important when choosing which set of model parameters to use later on. We'll store it by serializing the object to a JSON string encoded into a byte array."
   ]
  },
  {
   "cell_type": "code",
   "execution_count": 10,
   "id": "recreational-houston",
   "metadata": {},
   "outputs": [],
   "source": [
    "json_bytes = model_parameters_metadata.json().encode(\"utf-8\")"
   ]
  },
  {
   "cell_type": "markdown",
   "id": "answering-engine",
   "metadata": {},
   "source": [
    "In order to make save the model parameters as a single file, we'll combine the pickle and json files into a single zip file:"
   ]
  },
  {
   "cell_type": "code",
   "execution_count": 11,
   "id": "historical-petroleum",
   "metadata": {},
   "outputs": [],
   "source": [
    "from zipfile import ZipFile\n",
    "\n",
    "file_name = \"{}-{}-{}.zip\".format(model_parameters_metadata.model_qualified_name,\n",
    "                                  model_parameters_metadata.model_version,\n",
    "                                  model_parameters_metadata.model_parameters_version)\n",
    "\n",
    "with ZipFile(file_name, \"w\") as zip_file:\n",
    "    zip_file.writestr(\"model.pickle\", model_bytes)\n",
    "    zip_file.writestr(\"model_parameters_metadata.json\", json_bytes)"
   ]
  },
  {
   "cell_type": "markdown",
   "id": "004b8475",
   "metadata": {},
   "source": [
    "The zip will be used later to load the model parameters and metadata from one file. We'll also need to access the model by itself, so we'll save it to disk:"
   ]
  },
  {
   "cell_type": "code",
   "execution_count": 12,
   "id": "c0e76235",
   "metadata": {},
   "outputs": [],
   "source": [
    "with open(\"model.pickle\", 'wb') as file:\n",
    "    pickle.dump(model, file)"
   ]
  },
  {
   "cell_type": "markdown",
   "id": "palestinian-athletics",
   "metadata": {},
   "source": [
    "## Parameter Versioning\n",
    "\n",
    "In the example above, you can see that I saved the model parameters with the version \"1\". This is not a requirement and we can provide a version string that can convey more meaning. For example we can use:\n",
    "\n",
    "- an increasing integer\n",
    "- the date and time that the training run finished\n",
    "- a GUID\n",
    "\n",
    "Although a GUID is easy to generate and always unique, it is sometimes useful to arrange model parameters in the order in which they were created, in those cases it is better to use an increasing integer or a datetime.\n",
    "\n",
    "An set of parameters are always associated with a model and a particular code version of that model. A set of parameters generated by a specific version of the training code of a model is always guaranteed to work with the prediction code of that version of the model. "
   ]
  },
  {
   "cell_type": "markdown",
   "id": "limited-springfield",
   "metadata": {},
   "source": [
    "## Creating the Model Class\n",
    "\n",
    "Now that we have a set of parameters saved, we can create the model class that can use the parameters to make predictions.\n",
    "\n",
    "First, we'll need to define the model's input and output schemas so we can add them to the model class later:"
   ]
  },
  {
   "cell_type": "code",
   "execution_count": 13,
   "id": "noble-sociology",
   "metadata": {},
   "outputs": [],
   "source": [
    "from pydantic import BaseModel, Field\n",
    "from pydantic import ValidationError\n",
    "from enum import Enum\n",
    "\n",
    "\n",
    "class ModelInput(BaseModel):\n",
    "    sepal_length: float = Field(gt=5.0, lt=8.0, description=\"The length of the sepal of the flower.\")\n",
    "    sepal_width: float = Field(gt=2.0, lt=6.0, description=\"The width of the sepal of the flower.\")\n",
    "    petal_length: float = Field(gt=1.0, lt=6.8, description=\"The length of the petal of the flower.\")\n",
    "    petal_width: float = Field(gt=0.0, lt=3.0, description=\"The width of the petal of the flower.\")\n",
    "\n",
    "\n",
    "class Species(str, Enum):\n",
    "    iris_setosa = \"Iris setosa\"\n",
    "    iris_versicolor = \"Iris versicolor\"\n",
    "    iris_virginica = \"Iris virginica\"\n",
    "\n",
    "\n",
    "class ModelOutput(BaseModel):\n",
    "    species: Species = Field(description=\"The predicted species of the flower.\")"
   ]
  },
  {
   "cell_type": "code",
   "execution_count": 14,
   "id": "resistant-nickname",
   "metadata": {},
   "outputs": [],
   "source": [
    "import os\n",
    "from numpy import array\n",
    "from ml_base.ml_model import MLModel, MLModelSchemaValidationException\n",
    "\n",
    "\n",
    "class IrisModel(MLModel):\n",
    "    \n",
    "    display_name= \"Iris Model\"\n",
    "    qualified_name = \"iris_model\"\n",
    "    description = \"A model to predict the species of a flower based on its measurements.\"\n",
    "    version = \"0.1.0\"\n",
    "    input_schema = ModelInput\n",
    "    output_schema = ModelOutput\n",
    "    \n",
    "    def __init__(self):\n",
    "        dir_path = os.path.abspath(\"\")\n",
    "        with open(os.path.join(dir_path, \"model.pickle\"), 'rb') as f:\n",
    "            self._svm_model = pickle.load(f)\n",
    "\n",
    "    def predict(self, data: ModelInput) -> ModelOutput:\n",
    "        \n",
    "        # creating a numpy array using the fields in the input object\n",
    "        X = array([data.sepal_length, \n",
    "                   data.sepal_width, \n",
    "                   data.petal_length, \n",
    "                   data.petal_width]).reshape(1, -1)\n",
    "        \n",
    "        # making a prediction, at this point its a number\n",
    "        y_hat = int(self._svm_model.predict(X)[0])\n",
    "        \n",
    "        # converting the prediction from a number to a string\n",
    "        targets = [\"Iris setosa\", \"Iris versicolor\", \"Iris virginica\"]\n",
    "        species = targets[y_hat]\n",
    "        \n",
    "        # returning the prediction inside an object\n",
    "        return ModelOutput(species=species)"
   ]
  },
  {
   "cell_type": "markdown",
   "id": "detailed-bishop",
   "metadata": {},
   "source": [
    "The model can be used by instantiating the model class like this:"
   ]
  },
  {
   "cell_type": "code",
   "execution_count": 15,
   "id": "outdoor-professional",
   "metadata": {},
   "outputs": [
    {
     "data": {
      "text/plain": [
       "ModelOutput(species=<Species.iris_virginica: 'Iris virginica'>)"
      ]
     },
     "execution_count": 15,
     "metadata": {},
     "output_type": "execute_result"
    }
   ],
   "source": [
    "model = IrisModel()\n",
    "\n",
    "prediction = model.predict(data=ModelInput(**{\"sepal_length\": 6.0, \"sepal_width\": 2.1, \n",
    "                                              \"petal_length\": 1.2, \"petal_width\": 1.3}))\n",
    "\n",
    "prediction"
   ]
  },
  {
   "cell_type": "markdown",
   "id": "honest-expense",
   "metadata": {},
   "source": [
    "## Adding Parameter Metadata to a Model Class\n",
    "\n",
    "We've implemented a model class that wraps around our model and is able to make predictions. So far, the code is not any different from the basic example we've seen before, so we are going to add some functionality that is supported by the MLModel base class for parameters metadata.\n",
    "\n",
    "The MLModel base class has a class method defined that returns model parameter metadata. It is implemented in the base class:"
   ]
  },
  {
   "cell_type": "code",
   "execution_count": 16,
   "id": "a94232d4",
   "metadata": {},
   "outputs": [
    {
     "data": {
      "text/plain": [
       "[]"
      ]
     },
     "execution_count": 16,
     "metadata": {},
     "output_type": "execute_result"
    }
   ],
   "source": [
    "IrisModel.parameters()"
   ]
  },
  {
   "cell_type": "markdown",
   "id": "3cd89033",
   "metadata": {},
   "source": [
    "The implementation in the base class purposefully returns an empty list so that we can have a default behavior in case the developer does not want to support many model parameters in their model class. The method is supposed to be overriden in any class that inherits from MLModel, but only if the class is able to return metadata about the model parameters that it supports. We'll implement the method now:"
   ]
  },
  {
   "cell_type": "code",
   "execution_count": 17,
   "id": "febd935a",
   "metadata": {},
   "outputs": [],
   "source": [
    "import glob\n",
    "from zipfile import ZipFile\n",
    "from io import BytesIO\n",
    "import json\n",
    "from ml_base.schemas import ModelParametersMetadata\n",
    "\n",
    "\n",
    "class IrisModel(MLModel):\n",
    "    \n",
    "    display_name= \"Iris Model\"\n",
    "    qualified_name = \"iris_model\"\n",
    "    description = \"A model to predict the species of a flower based on its measurements.\"\n",
    "    version = \"0.1.0\"\n",
    "    input_schema = ModelInput\n",
    "    output_schema = ModelOutput\n",
    "    \n",
    "    @classmethod\n",
    "    def parameters(cls) -> List[ModelParametersMetadata]:\n",
    "        \"\"\"Return a list of ModelParametersMetadata objects that describe the parameters available for use.\"\"\"\n",
    "        model_parameters_metadata = []\n",
    "        \n",
    "        # getting a list of the zip files in the directory, filtering the file names to only the \n",
    "        # ones that match the model qualified name and version\n",
    "        zip_file_paths = glob.glob(\"./{}-{}-*.zip\".format(cls.qualified_name, cls.version))\n",
    "        \n",
    "        # iterating through the zip files found\n",
    "        for zip_file_path in zip_file_paths:\n",
    "            # opening a zip file\n",
    "            zip_file = ZipFile(zip_file_path)\n",
    "            # extracting the metadata in the JSON file to a string\n",
    "            json_string = zip_file.open(\"model_parameters_metadata.json\").read().decode('utf-8')\n",
    "            # deserializing the JSON string and creating a metadata object from it\n",
    "            metadata_dictionary = json.loads(json_string)\n",
    "            model_parameters_metadata.append(ModelParametersMetadata(**metadata_dictionary))\n",
    "            \n",
    "        return model_parameters_metadata\n",
    "        \n",
    "    \n",
    "    def __init__(self):\n",
    "        dir_path = os.path.abspath(\"\")\n",
    "        with open(os.path.join(dir_path, \"model.pickle\"), 'rb') as f:\n",
    "            self._svm_model = pickle.load(f)\n",
    "\n",
    "    def predict(self, data: ModelInput) -> ModelOutput:\n",
    "        X = array([data.sepal_length, data.sepal_width, data.petal_length, data.petal_width]).reshape(1, -1)\n",
    "        y_hat = int(self._svm_model.predict(X)[0])\n",
    "        targets = [\"Iris setosa\", \"Iris versicolor\", \"Iris virginica\"]\n",
    "        species = targets[y_hat]\n",
    "        return ModelOutput(species=species)"
   ]
  },
  {
   "cell_type": "markdown",
   "id": "77d400dd",
   "metadata": {},
   "source": [
    "The parameters() class method is able to scan the directory for any zip files, opening each one to access the JSON file that we saved with the parameters metadata. The JSON is deserialized into a ModelParametersMetadata object that is then returned in a list from the class method."
   ]
  },
  {
   "cell_type": "markdown",
   "id": "dominant-compromise",
   "metadata": {},
   "source": [
    "## Accessing Model Parameters Metadata\n",
    "\n",
    "Now we can access the parameters that are available by calling a class method:"
   ]
  },
  {
   "cell_type": "code",
   "execution_count": 18,
   "id": "improving-collar",
   "metadata": {},
   "outputs": [
    {
     "data": {
      "text/plain": [
       "[ModelParametersMetadata(model_qualified_name='iris_model', model_version='0.1.0', model_parameters_version='2', creation_timestamp=datetime.datetime(2021, 10, 27, 2, 46, 30, 837543), description='A model to predict the species of a flower based on its measurements.', author='Brian Schmidt', author_email='6666331+schmidtbri@users.noreply.github.com', tags=None, metadata={'training_set_size': 120, 'testing_set_size': 30, 'accuracy': 1.0}, dependencies=['scikit-learn==0.24.2', 'pandas==1.3.3']),\n",
       " ModelParametersMetadata(model_qualified_name='iris_model', model_version='0.1.0', model_parameters_version='1', creation_timestamp=datetime.datetime(2021, 10, 27, 12, 51, 34, 772958), description='A model to predict the species of a flower based on its measurements.', author='Brian Schmidt', author_email='6666331+schmidtbri@users.noreply.github.com', tags=None, metadata={'training_set_size': 120, 'testing_set_size': 30, 'accuracy': 1.0}, dependencies=['scikit-learn==0.24.2', 'pandas==1.3.3'])]"
      ]
     },
     "execution_count": 18,
     "metadata": {},
     "output_type": "execute_result"
    }
   ],
   "source": [
    "model_parameters = IrisModel.parameters()\n",
    "\n",
    "model_parameters"
   ]
  },
  {
   "cell_type": "markdown",
   "id": "da83a8a0",
   "metadata": {},
   "source": [
    "The model metadata is extracted from the JSON file within the JSON file and it is made available to the user of the model, just by calling the method. The technique that we use to store the model parameters and model metadata can be changed without affecting the users of the model, indeed the model parameters don't event have to be stored in the local computer. What really matters is that the parameters metadata is made available to the users of the model in a standardized way.\n",
    "\n",
    "The model parameters metadata is accessed from the model class as a class method because we want to enable users of the model to get the metadata without having to instantiate the model beforehand. Next, we'll modify the model class to enable the user to choose which model parameters they want."
   ]
  },
  {
   "cell_type": "markdown",
   "id": "49ca6183",
   "metadata": {},
   "source": [
    "## Instantiating a Model Object With Parameters\n",
    "\n",
    "The initialization method is not able to handle multiple versions of the model parameters. We'll rewrite it and accept a parameter called \"model_parameters_version\" that allows us to select the parameters we want when we instantiate the model object."
   ]
  },
  {
   "cell_type": "code",
   "execution_count": 19,
   "id": "flexible-external",
   "metadata": {},
   "outputs": [],
   "source": [
    "class IrisModel(MLModel):\n",
    "    \n",
    "    display_name= \"Iris Model\"\n",
    "    qualified_name = \"iris_model\"\n",
    "    description = \"A model to predict the species of a flower based on its measurements.\"\n",
    "    version = \"0.1.0\"\n",
    "    input_schema = ModelInput\n",
    "    output_schema = ModelOutput\n",
    "    \n",
    "    @classmethod\n",
    "    def parameters(cls) -> List[ModelParametersMetadata]:\n",
    "        model_parameters_metadata = []\n",
    "\n",
    "        zip_file_paths = glob.glob(\"./{}-{}-*.zip\".format(cls.qualified_name, cls.version))\n",
    "        \n",
    "        for zip_file_path in zip_file_paths:\n",
    "            zip_file = ZipFile(zip_file_path)\n",
    "            json_string = zip_file.open(\"model_parameters_metadata.json\").read().decode('utf-8')\n",
    "            metadata_dictionary = json.loads(json_string)\n",
    "            model_parameters_metadata.append(ModelParametersMetadata(**metadata_dictionary))\n",
    "            \n",
    "        return model_parameters_metadata\n",
    "    \n",
    "    def __init__(self, model_parameters_version: Optional[str] = None):\n",
    "        # the name of the zip file always matches model parameters version\n",
    "        zip_file_path = \"{}-{}-{}.zip\".format(self.qualified_name,\n",
    "                                              self.version,\n",
    "                                              model_parameters_version)\n",
    "        \n",
    "        # opening the zip file\n",
    "        zip_file = ZipFile(zip_file_path)\n",
    "        \n",
    "        # loading the model parameters in the pickle file\n",
    "        model_bytes = zip_file.open(\"model.pickle\").read()\n",
    "        self._svm_model = pickle.loads(model_bytes)\n",
    "\n",
    "    def predict(self, data: ModelInput) -> ModelOutput:\n",
    "        X = array([data.sepal_length, data.sepal_width, data.petal_length, data.petal_width]).reshape(1, -1)\n",
    "        y_hat = int(self._svm_model.predict(X)[0])\n",
    "        targets = [\"Iris setosa\", \"Iris versicolor\", \"Iris virginica\"]\n",
    "        species = targets[y_hat]\n",
    "        return ModelOutput(species=species)"
   ]
  },
  {
   "cell_type": "markdown",
   "id": "33b3d812",
   "metadata": {},
   "source": [
    "Now we can request that the model class instantiate itself with parameters version \"1\":"
   ]
  },
  {
   "cell_type": "code",
   "execution_count": 20,
   "id": "02d082fe",
   "metadata": {},
   "outputs": [
    {
     "data": {
      "text/plain": [
       "ModelOutput(species=<Species.iris_virginica: 'Iris virginica'>)"
      ]
     },
     "execution_count": 20,
     "metadata": {},
     "output_type": "execute_result"
    }
   ],
   "source": [
    "model = IrisModel(model_parameters_version=\"1\")\n",
    "\n",
    "prediction = model.predict(data=ModelInput(**{\"sepal_length\": 6.0, \"sepal_width\": 2.1, \n",
    "                                              \"petal_length\": 1.2, \"petal_width\": 1.3}))\n",
    "\n",
    "prediction"
   ]
  },
  {
   "cell_type": "markdown",
   "id": "5aaa33bf",
   "metadata": {},
   "source": [
    "What happens if we choose model parameters that don't exist? We'll just handle that by raising an exception:"
   ]
  },
  {
   "cell_type": "code",
   "execution_count": 21,
   "id": "bf6484f6",
   "metadata": {},
   "outputs": [],
   "source": [
    "from ml_base.ml_model import MLModelParametersNotAvailableException\n",
    "\n",
    "\n",
    "class IrisModel(MLModel):\n",
    "    \n",
    "    display_name= \"Iris Model\"\n",
    "    qualified_name = \"iris_model\"\n",
    "    description = \"A model to predict the species of a flower based on its measurements.\"\n",
    "    version = \"0.1.0\"\n",
    "    input_schema = ModelInput\n",
    "    output_schema = ModelOutput\n",
    "    \n",
    "    @classmethod\n",
    "    def parameters(cls) -> List[ModelParametersMetadata]:\n",
    "        model_parameters_metadata = []\n",
    "\n",
    "        zip_file_paths = glob.glob(\"./{}-{}-*.zip\".format(cls.qualified_name, cls.version))\n",
    "        \n",
    "        for zip_file_path in zip_file_paths:\n",
    "            zip_file = ZipFile(zip_file_path)\n",
    "            json_string = zip_file.open(\"model_parameters_metadata.json\").read().decode('utf-8')\n",
    "            metadata_dictionary = json.loads(json_string)\n",
    "            model_parameters_metadata.append(ModelParametersMetadata(**metadata_dictionary))\n",
    "            \n",
    "        return model_parameters_metadata\n",
    "        \n",
    "    \n",
    "    def __init__(self, model_parameters_version: Optional[str] = None):\n",
    "        # the name of the zip file always matches model parameters version\n",
    "        zip_file_path = \"{}-{}-{}.zip\".format(self.qualified_name,\n",
    "                                              self.version,\n",
    "                                              model_parameters_version)\n",
    "        \n",
    "        # opening the zip file\n",
    "        try:\n",
    "            zip_file = ZipFile(zip_file_path)\n",
    "        except FileNotFoundError as e:\n",
    "            # and raise an exception if we can't find it\n",
    "            raise MLModelParametersNotAvailableException(\"Parameters version {} not found.\".format(model_parameters_version))\n",
    "\n",
    "        # loading the model parameters in the pickle file\n",
    "        model_bytes = zip_file.open(\"model.pickle\").read()\n",
    "        self._svm_model = pickle.loads(model_bytes)\n",
    "\n",
    "    def predict(self, data: ModelInput) -> ModelOutput:\n",
    "        X = array([data.sepal_length, data.sepal_width, data.petal_length, data.petal_width]).reshape(1, -1)\n",
    "        y_hat = int(self._svm_model.predict(X)[0])\n",
    "        targets = [\"Iris setosa\", \"Iris versicolor\", \"Iris virginica\"]\n",
    "        species = targets[y_hat]\n",
    "        return ModelOutput(species=species)"
   ]
  },
  {
   "cell_type": "markdown",
   "id": "e19bb6ac",
   "metadata": {},
   "source": [
    "Now when we try to load a non-existant set of parameters, we'll get a specific exception type, which is the MLModelParametersNotAvailableException. This is useful for hiding the implementation details behind how the model class is storing and accessing model parameters, this way the users of the model only need to catch one type of exception to find out if the model parameters and not available."
   ]
  },
  {
   "cell_type": "code",
   "execution_count": 22,
   "id": "b04cea16",
   "metadata": {},
   "outputs": [],
   "source": [
    "try:\n",
    "    model = IrisModel(model_parameters_version=\"2\")\n",
    "except MLModelParametersNotAvailableException as e:\n",
    "    print(\"Exception raised: \", e)"
   ]
  },
  {
   "cell_type": "markdown",
   "id": "52014d3a",
   "metadata": {},
   "source": [
    "## Accessing Model Parameters Metadata\n",
    "\n",
    "When we have a model object instantiated, we need a way to tell which model parameters version it is currently holding. To do this, we'll implement the \"parameters_metadata\" property. This property is actually implemented in the base class, but it purposefully returns \"None\":"
   ]
  },
  {
   "cell_type": "code",
   "execution_count": 23,
   "id": "b918709c",
   "metadata": {},
   "outputs": [
    {
     "name": "stdout",
     "output_type": "stream",
     "text": [
      "None\n"
     ]
    }
   ],
   "source": [
    "print(model.parameters_metadata)"
   ]
  },
  {
   "cell_type": "markdown",
   "id": "7a7e16df",
   "metadata": {},
   "source": [
    "It returns None by default so that developers have the option to not handle parameter versioning in their own MLModel class. However, we do want to handle parameter versions, so we'll override the property in our own class:"
   ]
  },
  {
   "cell_type": "code",
   "execution_count": 24,
   "id": "c612a2a7",
   "metadata": {},
   "outputs": [],
   "source": [
    "class IrisModel(MLModel):\n",
    "    \n",
    "    display_name= \"Iris Model\"\n",
    "    qualified_name = \"iris_model\"\n",
    "    description = \"A model to predict the species of a flower based on its measurements.\"\n",
    "    version = \"0.1.0\"\n",
    "    input_schema = ModelInput\n",
    "    output_schema = ModelOutput\n",
    "    \n",
    "    @classmethod\n",
    "    def parameters(cls) -> List[ModelParametersMetadata]:\n",
    "        model_parameters_metadata = []\n",
    "\n",
    "        zip_file_paths = glob.glob(\"./{}-{}-*.zip\".format(cls.qualified_name, cls.version))\n",
    "        \n",
    "        for zip_file_path in zip_file_paths:\n",
    "            zip_file = ZipFile(zip_file_path)\n",
    "            json_string = zip_file.open(\"model_parameters_metadata.json\").read().decode('utf-8')\n",
    "            metadata_dictionary = json.loads(json_string)\n",
    "            model_parameters_metadata.append(ModelParametersMetadata(**metadata_dictionary))\n",
    "            \n",
    "        return model_parameters_metadata\n",
    "    \n",
    "    @property\n",
    "    def parameters_metadata(self) -> Optional[ModelParametersMetadata]:\n",
    "        return self.current_model_parameters_metadata\n",
    "        \n",
    "    \n",
    "    def __init__(self, model_parameters_version: Optional[str] = None):\n",
    "        zip_file_path = \"{}-{}-{}.zip\".format(self.qualified_name,\n",
    "                                              self.version,\n",
    "                                              model_parameters_version)\n",
    "        \n",
    "        try:\n",
    "            zip_file = ZipFile(zip_file_path)\n",
    "        except FileNotFoundError as e:\n",
    "            raise MLModelParametersNotAvailableException(\"Parameters version {} not found.\".format(model_parameters_version))\n",
    "        \n",
    "        model_bytes = zip_file.open(\"model.pickle\").read()\n",
    "        self._svm_model = pickle.loads(model_bytes)\n",
    "        \n",
    "        # extracting the parameter metadata in the JSON file to a string\n",
    "        json_string = zip_file.open(\"model_parameters_metadata.json\").read().decode('utf-8')\n",
    "        # deserializing the JSON string and creating a metadata object from it\n",
    "        metadata_dictionary = json.loads(json_string)\n",
    "        # saving the metadata to an instance property\n",
    "        self.current_model_parameters_metadata = ModelParametersMetadata(**metadata_dictionary)\n",
    "\n",
    "    def predict(self, data: ModelInput) -> ModelOutput:\n",
    "        X = array([data.sepal_length, data.sepal_width, data.petal_length, data.petal_width]).reshape(1, -1)\n",
    "        y_hat = int(self._svm_model.predict(X)[0])\n",
    "        targets = [\"Iris setosa\", \"Iris versicolor\", \"Iris virginica\"]\n",
    "        species = targets[y_hat]\n",
    "        return ModelOutput(species=species)"
   ]
  },
  {
   "cell_type": "markdown",
   "id": "db59da1e",
   "metadata": {},
   "source": [
    "When the model parametes are loaded in the \\_\\_init\\_\\_ method, we save the metadata object to the \"self.current_model_parameters_metadata\" property. Then we return it from the parameters_metadata property of the model object.\n",
    "\n",
    "Now when we load a set of parameters, we'll be able to know what the metadata is for them:"
   ]
  },
  {
   "cell_type": "code",
   "execution_count": 25,
   "id": "a3442f41",
   "metadata": {},
   "outputs": [
    {
     "name": "stdout",
     "output_type": "stream",
     "text": [
      "model_qualified_name='iris_model' model_version='0.1.0' model_parameters_version='1' creation_timestamp=datetime.datetime(2021, 10, 27, 12, 51, 34, 772958) description='A model to predict the species of a flower based on its measurements.' author='Brian Schmidt' author_email='6666331+schmidtbri@users.noreply.github.com' tags=None metadata={'training_set_size': 120, 'testing_set_size': 30, 'accuracy': 1.0} dependencies=['scikit-learn==0.24.2', 'pandas==1.3.3']\n"
     ]
    }
   ],
   "source": [
    "model = IrisModel(model_parameters_version=\"1\")\n",
    "\n",
    "print(model.parameters_metadata)"
   ]
  },
  {
   "cell_type": "markdown",
   "id": "controlling-jersey",
   "metadata": {},
   "source": [
    "## Default Model Parameters Version\n",
    "\n",
    "The model_parameters argument is actually not required to be provided to the \\_\\_init\\_\\_ method. If the parameter is not provided, its a good practice to just choose the latest set of model parameters and load those. "
   ]
  },
  {
   "cell_type": "code",
   "execution_count": 26,
   "id": "finnish-ethics",
   "metadata": {},
   "outputs": [],
   "source": [
    "class IrisModel(MLModel):\n",
    "    \n",
    "    display_name= \"Iris Model\"\n",
    "    qualified_name = \"iris_model\"\n",
    "    description = \"A model to predict the species of a flower based on its measurements.\"\n",
    "    version = \"0.1.0\"\n",
    "    input_schema = ModelInput\n",
    "    output_schema = ModelOutput\n",
    "    \n",
    "    @classmethod\n",
    "    def parameters(cls) -> List[ModelParametersMetadata]:\n",
    "        model_parameters_metadata = []\n",
    "        \n",
    "        zip_file_paths = glob.glob(\"./{}-{}-*.zip\".format(cls.qualified_name, cls.version))\n",
    "        \n",
    "        for zip_file_path in zip_file_paths:\n",
    "            zip_file = ZipFile(zip_file_path)\n",
    "            json_string = zip_file.open(\"model_parameters_metadata.json\").read().decode('utf-8')\n",
    "            metadata_dictionary = json.loads(json_string)\n",
    "            model_parameters_metadata.append(ModelParametersMetadata(**metadata_dictionary))\n",
    "            \n",
    "        return model_parameters_metadata\n",
    "    \n",
    "    @property\n",
    "    def parameters_metadata(self) -> Optional[ModelParametersMetadata]:\n",
    "        return self.current_model_parameters_metadata        \n",
    "    \n",
    "    def __init__(self, model_parameters_version: Optional[str] = None):\n",
    "        \n",
    "        if model_parameters_version is None and len(self.parameters()) == 0:\n",
    "            raise MLModelParametersNotAvailableException(\"No parameters available.\")\n",
    "        \n",
    "        # sorting the model parameters by creation_timestamp and selecting the latest one\n",
    "        elif model_parameters_version is None and len(self.parameters()) > 0:\n",
    "            sorted_parameters = sorted(self.parameters(), key=lambda parameters: parameters.creation_timestamp, reverse=True)\n",
    "            model_parameters_version = sorted_parameters[0].model_parameters_version\n",
    "            \n",
    "        zip_file_path = \"{}-{}-{}.zip\".format(self.qualified_name,\n",
    "                                              self.version,\n",
    "                                              model_parameters_version)\n",
    "\n",
    "        # opening the zip file\n",
    "        try:\n",
    "            zip_file = ZipFile(zip_file_path)\n",
    "        except FileNotFoundError as e:\n",
    "            raise MLModelParametersNotAvailableException(\"Parameters version {} not found.\".format(model_parameters_version))\n",
    "\n",
    "        # loading the model parameters in the pickle file\n",
    "        model_bytes = zip_file.open(\"model.pickle\").read()\n",
    "        self._svm_model = pickle.loads(model_bytes)\n",
    "        \n",
    "        # extracting the parameter metadata in the JSON file to a string\n",
    "        json_string = zip_file.open(\"model_parameters_metadata.json\").read().decode('utf-8')\n",
    "        # deserializing the JSON string and creating a metadata object from it\n",
    "        metadata_dictionary = json.loads(json_string)\n",
    "        # saving the metadata to an instance property\n",
    "        self.current_model_parameters_metadata = ModelParametersMetadata(**metadata_dictionary)\n",
    "\n",
    "    def predict(self, data: ModelInput) -> ModelOutput:\n",
    "        X = array([data.sepal_length, data.sepal_width, data.petal_length, data.petal_width]).reshape(1, -1)\n",
    "        y_hat = int(self._svm_model.predict(X)[0])\n",
    "        targets = [\"Iris setosa\", \"Iris versicolor\", \"Iris virginica\"]\n",
    "        species = targets[y_hat]\n",
    "        return ModelOutput(species=species)"
   ]
  },
  {
   "cell_type": "markdown",
   "id": "44a3782d",
   "metadata": {},
   "source": [
    "To show how this works, we'll need a new set of model parameters so we'll just train version \"2\" and save them to disk. The only thing that's changing is the model parameters version:"
   ]
  },
  {
   "cell_type": "code",
   "execution_count": 27,
   "id": "a225f95a",
   "metadata": {},
   "outputs": [],
   "source": [
    "model, accuracy, training_set_size, testing_set_size = train_model(random_state=42)\n",
    "\n",
    "# saving the model pickle to a bytes object\n",
    "model_bytes = pickle.dumps(model)\n",
    "    \n",
    "model_parameters_metadata = ModelParametersMetadata(\n",
    "    model_qualified_name=\"iris_model\",\n",
    "    model_version=\"0.1.0\",\n",
    "    model_parameters_version=\"2\",\n",
    "    description=\"A model to predict the species of a flower based on its measurements.\",\n",
    "    creation_timestamp=datetime.utcnow(),\n",
    "    author=\"Brian Schmidt\",\n",
    "    author_email=\"6666331+schmidtbri@users.noreply.github.com\",\n",
    "    metadata={\n",
    "        \"training_set_size\": training_set_size,\n",
    "        \"testing_set_size\": testing_set_size,\n",
    "        \"accuracy\": accuracy\n",
    "    },\n",
    "    dependencies=[\n",
    "        \"scikit-learn==0.24.2\",\n",
    "        \"pandas==1.3.3\"\n",
    "    ])\n",
    "\n",
    "# saving the json string to a bytes object\n",
    "json_bytes = model_parameters_metadata.json().encode(\"utf-8\")\n",
    "    \n",
    "file_name = \"{}-{}-{}.zip\".format(model_parameters_metadata.model_qualified_name,\n",
    "                                  model_parameters_metadata.model_version,\n",
    "                                  model_parameters_metadata.model_parameters_version)\n",
    "\n",
    "with ZipFile(file_name, \"w\") as zip_file:\n",
    "    zip_file.writestr(\"model.pickle\", model_bytes)\n",
    "    zip_file.writestr(\"model_parameters_metadata.json\", json_bytes)"
   ]
  },
  {
   "cell_type": "markdown",
   "id": "c983223e",
   "metadata": {},
   "source": [
    "Since the \"2\" version of the model parameters was trained later, it should be chosen when we don't provide the model_parameters_version to the \\_\\_init\\_\\_ method:"
   ]
  },
  {
   "cell_type": "code",
   "execution_count": 28,
   "id": "f1217f4b",
   "metadata": {},
   "outputs": [
    {
     "name": "stdout",
     "output_type": "stream",
     "text": [
      "2\n"
     ]
    }
   ],
   "source": [
    "model = IrisModel()\n",
    "\n",
    "print(model.parameters_metadata.model_parameters_version)"
   ]
  },
  {
   "cell_type": "markdown",
   "id": "e5cf0a83",
   "metadata": {},
   "source": [
    "The parameters version \"2\" was selected when we didnt provide the desired version to the IrisModel \\_\\_init\\_\\_ method."
   ]
  },
  {
   "cell_type": "markdown",
   "id": "ecf0f3d1",
   "metadata": {},
   "source": [
    "## Matching Model Parameters Version to Model Code Version\n",
    "\n",
    "Model parameters are always related to the model class that is designed to load them and use them. This is why we store the model version in the parameters metadata. When the model training code changes, we should be able to load the model parameters correctly in the model class and predict with them correctly as well.\n",
    "\n",
    "To show how this works, we'll train a new model and change the way that we serialize the model:"
   ]
  },
  {
   "cell_type": "code",
   "execution_count": 29,
   "id": "cc15d4fc",
   "metadata": {},
   "outputs": [],
   "source": [
    "from io import BytesIO\n",
    "import joblib\n",
    "\n",
    "model, accuracy, training_set_size, testing_set_size = train_model(random_state=42)\n",
    "\n",
    "model_bytes = BytesIO()\n",
    "joblib.dump(model, model_bytes)\n",
    "model_bytes.seek(0)\n",
    "model_bytes = model_bytes.read()"
   ]
  },
  {
   "cell_type": "markdown",
   "id": "3020dab4",
   "metadata": {},
   "source": [
    "For this model, we serialized the model object with the joblib package. This will cause the \"0.1.0\" version of the model class to not be able to read these new parameters.\n",
    "\n",
    "Next, we'll create the parameters metadata for the new model parameters:"
   ]
  },
  {
   "cell_type": "code",
   "execution_count": 30,
   "id": "36d914a7",
   "metadata": {},
   "outputs": [],
   "source": [
    "model_parameters_metadata = ModelParametersMetadata(\n",
    "    model_qualified_name=\"iris_model\",\n",
    "    model_version=\"0.2.0\",\n",
    "    model_parameters_version=\"1\",\n",
    "    description=\"A model to predict the species of a flower based on its measurements.\",\n",
    "    creation_timestamp=datetime.utcnow(),\n",
    "    author=\"Brian Schmidt\",\n",
    "    author_email=\"6666331+schmidtbri@users.noreply.github.com\",\n",
    "    metadata={\n",
    "        \"training_set_size\": training_set_size,\n",
    "        \"testing_set_size\": testing_set_size,\n",
    "        \"accuracy\": accuracy\n",
    "    },\n",
    "    dependencies=[\n",
    "        \"scikit-learn==0.24.2\",\n",
    "        \"pandas==1.3.3\"\n",
    "    ])\n",
    "\n",
    "json_bytes = model_parameters_metadata.json().encode(\"utf-8\")"
   ]
  },
  {
   "cell_type": "markdown",
   "id": "65090a17",
   "metadata": {},
   "source": [
    "Notice that the model version went up to \"0.2.0\" because we are changing the way the model is serialized, which means that the model class will also need to change. The parameters version went back down to \"1\" because we reset the count when we got a new model version.\n",
    "\n",
    "Next, we'll save the new model parameters as before:"
   ]
  },
  {
   "cell_type": "code",
   "execution_count": 31,
   "id": "0c46526f",
   "metadata": {},
   "outputs": [],
   "source": [
    "# building up a filename\n",
    "file_name = \"{}-{}-{}.zip\".format(model_parameters_metadata.model_qualified_name,\n",
    "                                  model_parameters_metadata.model_version,\n",
    "                                  model_parameters_metadata.model_parameters_version)\n",
    "\n",
    "# saving the model file and JSON file into the zip file\n",
    "with ZipFile(file_name, \"w\") as zip_file:\n",
    "    zip_file.writestr(\"model.joblib\", model_bytes)\n",
    "    zip_file.writestr(\"model_parameters_metadata.json\", json_bytes)"
   ]
  },
  {
   "cell_type": "markdown",
   "id": "bd484fe8",
   "metadata": {},
   "source": [
    "Now we need to rewrite the model class to handle the new joblib serialization format:"
   ]
  },
  {
   "cell_type": "code",
   "execution_count": 32,
   "id": "e36f19d8",
   "metadata": {},
   "outputs": [],
   "source": [
    "class IrisModel(MLModel):\n",
    "    \n",
    "    display_name= \"Iris Model\"\n",
    "    qualified_name = \"iris_model\"\n",
    "    description = \"A model to predict the species of a flower based on its measurements.\"\n",
    "    version = \"0.2.0\"\n",
    "    input_schema = ModelInput\n",
    "    output_schema = ModelOutput\n",
    "    \n",
    "    @classmethod\n",
    "    def parameters(cls) -> List[ModelParametersMetadata]:\n",
    "        model_parameters_metadata = []\n",
    "        \n",
    "        zip_file_paths = glob.glob(\"./{}-{}-*.zip\".format(cls.qualified_name, cls.version))\n",
    "        \n",
    "        for zip_file_path in zip_file_paths:\n",
    "            zip_file = ZipFile(zip_file_path)\n",
    "            json_string = zip_file.open(\"model_parameters_metadata.json\").read().decode('utf-8')\n",
    "            metadata_dictionary = json.loads(json_string)\n",
    "            model_parameters_metadata.append(ModelParametersMetadata(**metadata_dictionary))\n",
    "            \n",
    "        return model_parameters_metadata\n",
    "    \n",
    "    @property\n",
    "    def parameters_metadata(self) -> Optional[ModelParametersMetadata]:\n",
    "        return self.current_model_parameters_metadata        \n",
    "    \n",
    "    def __init__(self, model_parameters_version: Optional[str] = None):\n",
    "        \n",
    "        if model_parameters_version is None and len(self.parameters()) == 0:\n",
    "            raise MLModelParametersNotAvailableException(\"No parameters available.\")\n",
    "            \n",
    "        elif model_parameters_version is None and len(self.parameters()) > 0:\n",
    "            sorted_parameters = sorted(self.parameters(), key=lambda parameters: parameters.creation_timestamp, reverse=True)\n",
    "            model_parameters_version = sorted_parameters[0].model_parameters_version\n",
    "            \n",
    "        zip_file_path = \"{}-{}-{}.zip\".format(self.qualified_name,\n",
    "                                              self.version,\n",
    "                                              model_parameters_version)\n",
    "        try:\n",
    "            zip_file = ZipFile(zip_file_path)\n",
    "        except FileNotFoundError as e:\n",
    "            raise MLModelParametersNotAvailableException(\"Parameters version {} not found.\".format(model_parameters_version))\n",
    "\n",
    "        # loading the model parameters in the pickle file\n",
    "        model_bytes = zip_file.open(\"model.joblib\").read()\n",
    "        model_bytes = BytesIO(model_bytes)\n",
    "        self._svm_model = joblib.load(model_bytes)\n",
    "        \n",
    "        json_string = zip_file.open(\"model_parameters_metadata.json\").read().decode('utf-8')\n",
    "        metadata_dictionary = json.loads(json_string)\n",
    "        self.current_model_parameters_metadata = ModelParametersMetadata(**metadata_dictionary)\n",
    "\n",
    "    def predict(self, data: ModelInput) -> ModelOutput:\n",
    "        X = array([data.sepal_length, data.sepal_width, data.petal_length, data.petal_width]).reshape(1, -1)\n",
    "        y_hat = int(self._svm_model.predict(X)[0])\n",
    "        targets = [\"Iris setosa\", \"Iris versicolor\", \"Iris virginica\"]\n",
    "        species = targets[y_hat]\n",
    "        return ModelOutput(species=species)"
   ]
  },
  {
   "cell_type": "code",
   "execution_count": 33,
   "id": "bd583a49",
   "metadata": {},
   "outputs": [
    {
     "name": "stdout",
     "output_type": "stream",
     "text": [
      "model_qualified_name='iris_model' model_version='0.2.0' model_parameters_version='1' creation_timestamp=datetime.datetime(2021, 10, 27, 12, 51, 34, 980899) description='A model to predict the species of a flower based on its measurements.' author='Brian Schmidt' author_email='6666331+schmidtbri@users.noreply.github.com' tags=None metadata={'training_set_size': 120, 'testing_set_size': 30, 'accuracy': 1.0} dependencies=['scikit-learn==0.24.2', 'pandas==1.3.3']\n"
     ]
    }
   ],
   "source": [
    "model = IrisModel(model_parameters_version=\"1\")\n",
    "\n",
    "print(model.parameters_metadata)"
   ]
  },
  {
   "cell_type": "markdown",
   "id": "alternate-novelty",
   "metadata": {},
   "source": [
    "## Managing Model Objects\n",
    "\n",
    "Now that we have a way to store model parameters along with metadata and a way to load different parameters with the same model class, we'll need a way to manage multiple versions of parameters within the same process. In the previous example, we used the ModelManager class to do this, we'll extend it to be able to manage parameter versions as well.\n",
    "\n",
    "To work with the ModelManager, we first need to instantiate it:"
   ]
  },
  {
   "cell_type": "code",
   "execution_count": 34,
   "id": "17597942",
   "metadata": {},
   "outputs": [
    {
     "ename": "SyntaxError",
     "evalue": "invalid syntax (model_manager.py, line 127)",
     "output_type": "error",
     "traceback": [
      "Traceback \u001b[0;36m(most recent call last)\u001b[0m:\n",
      "  File \u001b[1;32m\"/Users/brian/Code/ml-base/venv/lib/python3.8/site-packages/IPython/core/interactiveshell.py\"\u001b[0m, line \u001b[1;32m3444\u001b[0m, in \u001b[1;35mrun_code\u001b[0m\n    exec(code_obj, self.user_global_ns, self.user_ns)\n",
      "  File \u001b[1;32m\"/var/folders/vb/ym0r3p412kg598rdky_lb5_w0000gn/T/ipykernel_14569/1196226262.py\"\u001b[0m, line \u001b[1;32m1\u001b[0m, in \u001b[1;35m<module>\u001b[0m\n    from ml_base.utilities.model_manager import ModelManager\n",
      "\u001b[0;36m  File \u001b[0;32m\"/Users/brian/Code/ml-base/examples/../ml_base/utilities/__init__.py\"\u001b[0;36m, line \u001b[0;32m2\u001b[0;36m, in \u001b[0;35m<module>\u001b[0;36m\u001b[0m\n\u001b[0;31m    from ml_base.utilities.model_manager import ModelManager\u001b[0m\n",
      "\u001b[0;36m  File \u001b[0;32m\"/Users/brian/Code/ml-base/examples/../ml_base/utilities/model_manager.py\"\u001b[0;36m, line \u001b[0;32m127\u001b[0m\n\u001b[0;31m    else:\u001b[0m\n\u001b[0m    ^\u001b[0m\n\u001b[0;31mSyntaxError\u001b[0m\u001b[0;31m:\u001b[0m invalid syntax\n"
     ]
    }
   ],
   "source": [
    "from ml_base.utilities.model_manager import ModelManager\n",
    "\n",
    "model_manager = ModelManager()"
   ]
  },
  {
   "cell_type": "markdown",
   "id": "median-julian",
   "metadata": {},
   "source": [
    "### Adding a Model Object to the Model Manager\n",
    "\n",
    "Adding a model object with parameters metadata."
   ]
  },
  {
   "cell_type": "code",
   "execution_count": null,
   "id": "5aaa2d79",
   "metadata": {},
   "outputs": [],
   "source": [
    "from tests.mocks import MLModelMockWithParametersMetadata\n",
    "\n",
    "metadata = MLModelMockWithParametersMetadata.parameters()\n",
    "metadata"
   ]
  },
  {
   "cell_type": "code",
   "execution_count": null,
   "id": "upset-saver",
   "metadata": {},
   "outputs": [],
   "source": [
    "model = MLModelMockWithParametersMetadata()\n",
    "\n",
    "model_manager.add_model(model)"
   ]
  },
  {
   "cell_type": "code",
   "execution_count": null,
   "id": "rocky-leone",
   "metadata": {},
   "outputs": [],
   "source": [
    "model_details = model_manager.get_model_details()"
   ]
  },
  {
   "cell_type": "markdown",
   "id": "17d9ab96",
   "metadata": {},
   "source": [
    "Adding a model object without parameters version."
   ]
  },
  {
   "cell_type": "code",
   "execution_count": null,
   "id": "institutional-variation",
   "metadata": {},
   "outputs": [],
   "source": [
    "add_model"
   ]
  },
  {
   "cell_type": "markdown",
   "id": "e6b49b3f",
   "metadata": {},
   "source": [
    "### Removing a Model Object from the Model Manager\n",
    "\n",
    "Removing a model object with parameters version."
   ]
  },
  {
   "cell_type": "code",
   "execution_count": null,
   "id": "f36ef4f5",
   "metadata": {},
   "outputs": [],
   "source": [
    "remove_model"
   ]
  },
  {
   "cell_type": "markdown",
   "id": "306b4ce8",
   "metadata": {},
   "source": [
    "Removing a model object without parameters version."
   ]
  },
  {
   "cell_type": "code",
   "execution_count": null,
   "id": "87e8e6e8",
   "metadata": {},
   "outputs": [],
   "source": [
    "remove_model"
   ]
  },
  {
   "cell_type": "markdown",
   "id": "51474be8",
   "metadata": {},
   "source": [
    "### Loading a Model\n"
   ]
  },
  {
   "cell_type": "code",
   "execution_count": null,
   "id": "a5443c03",
   "metadata": {},
   "outputs": [],
   "source": [
    "load_model"
   ]
  },
  {
   "cell_type": "markdown",
   "id": "90b50118",
   "metadata": {},
   "source": [
    "### Getting a List of Models from the Model Manager\n"
   ]
  },
  {
   "cell_type": "code",
   "execution_count": null,
   "id": "8756e097",
   "metadata": {},
   "outputs": [],
   "source": [
    "get_models"
   ]
  },
  {
   "cell_type": "markdown",
   "id": "a8e8ee71",
   "metadata": {},
   "source": [
    "### Getting a List of Models and Parameters from the Model Manager\n"
   ]
  },
  {
   "cell_type": "code",
   "execution_count": null,
   "id": "6de355ac",
   "metadata": {},
   "outputs": [],
   "source": [
    "get_model_metadata"
   ]
  },
  {
   "cell_type": "markdown",
   "id": "1be034c5",
   "metadata": {},
   "source": [
    "### Getting a Model Object from the Model Manager\n",
    "\n",
    "With parameters version"
   ]
  },
  {
   "cell_type": "code",
   "execution_count": null,
   "id": "73c71792",
   "metadata": {},
   "outputs": [],
   "source": [
    "get_model"
   ]
  },
  {
   "cell_type": "markdown",
   "id": "6d0aca16",
   "metadata": {},
   "source": [
    "Without parameters version"
   ]
  },
  {
   "cell_type": "code",
   "execution_count": null,
   "id": "based-macedonia",
   "metadata": {},
   "outputs": [],
   "source": [
    "get_model"
   ]
  },
  {
   "cell_type": "markdown",
   "id": "maritime-interval",
   "metadata": {},
   "source": [
    "## Conclusion\n",
    "\n",
    "The technique used to save and access model parameters in this guide is simple and open ended and it not prescriptive. If we wanted save model parameters in another way, we would be able to simply change the code in the model class accordingly. What this guide is showing is a standardized way to report which model parameters are available for a model, and a standardized way to create a model object that uses a specific set of model parameters. \n",
    "\n",
    "We are able to return metadata about the model parameters available to be used by adding a property to the MLModel base class that can be implemented by any model class that inherits from it. The property return a list of model metadata objects that correspond to the model parameters available. The metadata object contains information about the model, model version, and other things that are useful to keep track of when storing model parameters. \n",
    "\n",
    "When we have decided which model parameters to load, we can load them by using \n",
    "\n",
    "What is required?\n",
    "What is left up to the developer?\n"
   ]
  },
  {
   "cell_type": "markdown",
   "id": "ef0a6f2a",
   "metadata": {},
   "source": [
    "The model parameters are always saved with metadata that helps to identify them later. The metadata is in a standardized format. The parameters metadata is accesed from the model class of the model object through a defined API. Parameters metadata is not required "
   ]
  }
 ],
 "metadata": {
  "kernelspec": {
   "display_name": "Python 3 (ipykernel)",
   "language": "python",
   "name": "python3"
  },
  "language_info": {
   "codemirror_mode": {
    "name": "ipython",
    "version": 3
   },
   "file_extension": ".py",
   "mimetype": "text/x-python",
   "name": "python",
   "nbconvert_exporter": "python",
   "pygments_lexer": "ipython3",
   "version": "3.8.10"
  }
 },
 "nbformat": 4,
 "nbformat_minor": 5
}
