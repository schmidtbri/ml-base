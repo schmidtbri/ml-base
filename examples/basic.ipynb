{
 "cells": [
  {
   "cell_type": "raw",
   "id": "harmful-trademark",
   "metadata": {},
   "source": [
    "Title: Introducing the ml_base Package\n",
    "Date: 2021-02-22 07:54\n",
    "Category: Blog\n",
    "Slug: introducing-ml-base-package\n",
    "Authors: Brian Schmidt\n",
    "Summary: The ml_base package defines a common set of base classes that are useful for working with machine learning model prediction code. The base classes define a set of interfaces that help to write ML code that is reusable and testable. The core of the ml_base package is the MLModel class which defines a simple interface for doing machine learning model prediction. I this blog post, we'll show how to use the MLModel class."
   ]
  },
  {
   "cell_type": "markdown",
   "id": "black-funeral",
   "metadata": {},
   "source": [
    "# Introducing the ml_base Package\n",
    "\n",
    "These examples run within an Jupyter notebook session. To clear out the results of cells that we don't want to see we'll use the clear_output() function provided by Jupyter:"
   ]
  },
  {
   "cell_type": "code",
   "execution_count": 1,
   "id": "empirical-assistant",
   "metadata": {},
   "outputs": [],
   "source": [
    "from IPython.display import clear_output"
   ]
  },
  {
   "cell_type": "markdown",
   "id": "acute-harmony",
   "metadata": {},
   "source": [
    "To get started we'll install the ml_base package:"
   ]
  },
  {
   "cell_type": "code",
   "execution_count": 2,
   "id": "interim-wilderness",
   "metadata": {},
   "outputs": [],
   "source": [
    "!pip install ml_base\n",
    "\n",
    "clear_output()"
   ]
  },
  {
   "cell_type": "markdown",
   "id": "retained-writing",
   "metadata": {},
   "source": [
    "## Creating a Simple Model\n",
    "\n",
    "To show how to work with the MLModel base class we'll create a simple model that we can make predictions with. We'll use the scikit-learn library, so we'll need to install it:"
   ]
  },
  {
   "cell_type": "code",
   "execution_count": 3,
   "id": "dynamic-interaction",
   "metadata": {},
   "outputs": [],
   "source": [
    "!pip install scikit-learn\n",
    "\n",
    "clear_output()"
   ]
  },
  {
   "cell_type": "markdown",
   "id": "authentic-bread",
   "metadata": {},
   "source": [
    "Now we can write some code to train a model:"
   ]
  },
  {
   "cell_type": "code",
   "execution_count": 4,
   "id": "difficult-stockholm",
   "metadata": {},
   "outputs": [],
   "source": [
    "from sklearn import datasets\n",
    "from sklearn import svm\n",
    "import pickle\n",
    "\n",
    "# loading the Iris dataset\n",
    "iris = datasets.load_iris()\n",
    "\n",
    "# instantiating an SVM model from scikit-learn\n",
    "svm_model = svm.SVC(gamma=1.0, C=1.0)\n",
    "\n",
    "# fitting the model\n",
    "svm_model.fit(iris.data[:-1], iris.target[:-1])\n",
    "\n",
    "# serializing the model and saving it\n",
    "file = open(\"svc_model.pickle\", 'wb')\n",
    "pickle.dump(svm_model, file)\n",
    "file.close()"
   ]
  },
  {
   "cell_type": "markdown",
   "id": "focal-spokesman",
   "metadata": {},
   "source": [
    "## Creating a Wrapper Class for Your Model\n",
    "\n",
    "Now that we have a model object, we'll define a class that implements the prediction functionality for the code:"
   ]
  },
  {
   "cell_type": "code",
   "execution_count": 5,
   "id": "mineral-bridal",
   "metadata": {},
   "outputs": [],
   "source": [
    "import os\n",
    "from numpy import array\n",
    "\n",
    "\n",
    "class IrisModel(object):\n",
    "    def __init__(self):\n",
    "        dir_path = os.path.abspath('')\n",
    "        file = open(os.path.join(dir_path, \"svc_model.pickle\"), 'rb')\n",
    "        self._svm_model = pickle.load(file)\n",
    "        file.close()\n",
    "\n",
    "    def predict(self, data: dict):\n",
    "        X = array([data[\"sepal_length\"], data[\"sepal_width\"], data[\"petal_length\"], data[\"petal_width\"]]).reshape(1, -1)\n",
    "        y_hat = int(self._svm_model.predict(X)[0])\n",
    "        targets = ['setosa', 'versicolor', 'virginica']\n",
    "        species = targets[y_hat]\n",
    "        return {\"species\": species}"
   ]
  },
  {
   "cell_type": "markdown",
   "id": "shaped-facility",
   "metadata": {},
   "source": [
    "The class above wraps the pickled model object and makes the model easier to use by converting the inputs and outputs.\n",
    "To use the model, all we need to do is this:"
   ]
  },
  {
   "cell_type": "code",
   "execution_count": 6,
   "id": "sunset-taste",
   "metadata": {},
   "outputs": [
    {
     "data": {
      "text/plain": [
       "{'species': 'virginica'}"
      ]
     },
     "execution_count": 6,
     "metadata": {},
     "output_type": "execute_result"
    }
   ],
   "source": [
    "model = IrisModel()\n",
    "\n",
    "prediction = model.predict(data={\n",
    "    \"sepal_length\":1.0,\n",
    "    \"sepal_width\":1.1,\n",
    "    \"petal_length\": 1.2,\n",
    "    \"petal_width\": 1.3})\n",
    "\n",
    "prediction"
   ]
  },
  {
   "cell_type": "markdown",
   "id": "secure-algeria",
   "metadata": {},
   "source": [
    "## Creating an MLModel Class for Your Model\n",
    "\n",
    "The model is already much easier to use because it provides the prediction from a class. The user of the model doesn't\n",
    "need to worry about loading the pickled model object, or converting the model's input into a numpy array. However, we\n",
    "are still not using the MLModel abstract base class, now we'll implement a part of the MLModel's interface to show how\n",
    "it works:"
   ]
  },
  {
   "cell_type": "code",
   "execution_count": 7,
   "id": "stuffed-morris",
   "metadata": {},
   "outputs": [],
   "source": [
    "from ml_base import MLModel\n",
    "\n",
    "\n",
    "class IrisModel(MLModel):\n",
    "    @property\n",
    "    def display_name(self):\n",
    "        return \"Iris Model\"\n",
    "\n",
    "    @property\n",
    "    def qualified_name(self):\n",
    "        return \"iris_model\"\n",
    "\n",
    "    @property\n",
    "    def description(self):\n",
    "        return \"A model to predict the species of a flower based on its measurements.\"\n",
    "\n",
    "    @property\n",
    "    def version(self):\n",
    "        return \"1.0.0\"\n",
    "\n",
    "    @property\n",
    "    def input_schema(self):\n",
    "        raise NotImplementedError()\n",
    "\n",
    "    @property\n",
    "    def output_schema(self):\n",
    "        raise NotImplementedError()\n",
    "\n",
    "    def __init__(self):\n",
    "        dir_path = os.path.abspath('')\n",
    "        file = open(os.path.join(dir_path, \"svc_model.pickle\"), 'rb')\n",
    "        self._svm_model = pickle.load(file)\n",
    "        file.close()\n",
    "\n",
    "    def predict(self, data: dict):\n",
    "        X = array([data[\"sepal_length\"], data[\"sepal_width\"], data[\"petal_length\"], data[\"petal_width\"]]).reshape(1, -1)\n",
    "        y_hat = int(self._svm_model.predict(X)[0])\n",
    "        targets = ['setosa', 'versicolor', 'virginica']\n",
    "        species = targets[y_hat]\n",
    "        return {\"species\": species}"
   ]
  },
  {
   "cell_type": "markdown",
   "id": "primary-sharing",
   "metadata": {},
   "source": [
    "The MLModel base class defines a set of properties that must be provided by any class that inherits from it. Because the IrisModel class now provides this metadata about the model, we can access it directly from the model object like this:"
   ]
  },
  {
   "cell_type": "code",
   "execution_count": 8,
   "id": "alleged-peeing",
   "metadata": {},
   "outputs": [
    {
     "name": "stdout",
     "output_type": "stream",
     "text": [
      "iris_model\n"
     ]
    }
   ],
   "source": [
    "model = IrisModel()\n",
    "\n",
    "print(model.qualified_name)"
   ]
  },
  {
   "cell_type": "markdown",
   "id": "gothic-investor",
   "metadata": {},
   "source": [
    "The qualified name of the model uniquely identifies the instance of the model within the system. Right now the qualified name is hardcoded in the code of the model's class, but this can be made more dynamic in the future. The qualified name should also be a string that is easy to embed in a URL, so it shouldn't have spaces or special characters.\n",
    "\n",
    "The model's display name is also available from the model object:"
   ]
  },
  {
   "cell_type": "code",
   "execution_count": 9,
   "id": "subject-python",
   "metadata": {},
   "outputs": [
    {
     "name": "stdout",
     "output_type": "stream",
     "text": [
      "Iris Model\n"
     ]
    }
   ],
   "source": [
    "print(model.display_name)"
   ]
  },
  {
   "cell_type": "markdown",
   "id": "studied-butterfly",
   "metadata": {},
   "source": [
    "The display name of a model should be a string that looks good in a user interface.\n",
    "\n",
    "The model description is also available from the model object:"
   ]
  },
  {
   "cell_type": "code",
   "execution_count": 10,
   "id": "earlier-budget",
   "metadata": {},
   "outputs": [
    {
     "name": "stdout",
     "output_type": "stream",
     "text": [
      "A model to predict the species of a flower based on its measurements.\n"
     ]
    }
   ],
   "source": [
    "print(model.description)"
   ]
  },
  {
   "cell_type": "markdown",
   "id": "solid-causing",
   "metadata": {},
   "source": [
    "The model version is also available as a string from the model object:"
   ]
  },
  {
   "cell_type": "code",
   "execution_count": 11,
   "id": "lonely-orchestra",
   "metadata": {},
   "outputs": [
    {
     "name": "stdout",
     "output_type": "stream",
     "text": [
      "1.0.0\n"
     ]
    }
   ],
   "source": [
    "print(model.version)"
   ]
  },
  {
   "cell_type": "markdown",
   "id": "binding-grade",
   "metadata": {},
   "source": [
    "As you can see, we didn't implement the input_schema and output_schema properties above, we'll add those next."
   ]
  },
  {
   "cell_type": "markdown",
   "id": "cross-setting",
   "metadata": {},
   "source": [
    "## Adding Schemas to Your Model\n",
    "\n",
    "To add schema information to the model class, we'll use the pydantic package. The pydantic package allows us to state the schema requirements of the model's input and output programatically as Python classes:"
   ]
  },
  {
   "cell_type": "code",
   "execution_count": 12,
   "id": "widespread-render",
   "metadata": {},
   "outputs": [],
   "source": [
    "from pydantic import BaseModel, Field\n",
    "from pydantic import ValidationError\n",
    "from enum import Enum\n",
    "\n",
    "\n",
    "class ModelInput(BaseModel):\n",
    "    sepal_length: float = Field(gt=5.0, lt=8.0, description=\"The length of the sepal of the flower.\")\n",
    "    sepal_width: float = Field(gt=2.0, lt=6.0, description=\"The width of the sepal of the flower.\")\n",
    "    petal_length: float = Field(gt=1.0, lt=6.8, description=\"The length of the petal of the flower.\")\n",
    "    petal_width: float = Field(gt=0.0, lt=3.0, description=\"The width of the petal of the flower.\")\n",
    "\n",
    "\n",
    "class Species(str, Enum):\n",
    "    iris_setosa = \"Iris setosa\"\n",
    "    iris_versicolor = \"Iris versicolor\"\n",
    "    iris_virginica = \"Iris virginica\"\n",
    "\n",
    "\n",
    "class ModelOutput(BaseModel):\n",
    "    species: Species = Field(description=\"The predicted species of the flower.\")\n"
   ]
  },
  {
   "cell_type": "markdown",
   "id": "subject-wisconsin",
   "metadata": {},
   "source": [
    "The ModelInput class inherits from the pydantic BaseModel class and it defines four required fields, all of them floating point numbers. The pydantic package allows for defining upper bounds and lower bounds for the values accepted by each field, and also a description for the field.\n",
    "\n",
    "The ModelOutput is made up of a single fields, which is an enumerated string that contains the predicted species of the flower.\n",
    "\n",
    "Now that we have the ModelInput and ModelOutput schemas defined as pydantic BaseModel classes, we'll add them to the IrisModel class by returning them from the input_schema and output_schema properties:"
   ]
  },
  {
   "cell_type": "code",
   "execution_count": 13,
   "id": "buried-oklahoma",
   "metadata": {},
   "outputs": [],
   "source": [
    "from ml_base.ml_model import MLModel, MLModelSchemaValidationException\n",
    "\n",
    "\n",
    "class IrisModel(MLModel):\n",
    "    @property\n",
    "    def display_name(self):\n",
    "        return \"Iris Model\"\n",
    "\n",
    "    @property\n",
    "    def qualified_name(self):\n",
    "        return \"iris_model\"\n",
    "\n",
    "    @property\n",
    "    def description(self):\n",
    "        return \"A model to predict the species of a flower based on its measurements.\"\n",
    "\n",
    "    @property\n",
    "    def version(self):\n",
    "        return \"1.0.0\"\n",
    "\n",
    "    @property\n",
    "    def input_schema(self):\n",
    "        return ModelInput\n",
    "\n",
    "    @property\n",
    "    def output_schema(self):\n",
    "        return ModelOutput\n",
    "\n",
    "    def __init__(self):\n",
    "        dir_path = os.path.abspath('')\n",
    "        with open(os.path.join(dir_path, \"svc_model.pickle\"), 'rb') as f:\n",
    "            self._svm_model = pickle.load(f)\n",
    "\n",
    "    def predict(self, data: ModelInput):\n",
    "        # creating a numpy array using the fields in the input object\n",
    "        X = array([data.sepal_length, \n",
    "                   data.sepal_width, \n",
    "                   data.petal_length, \n",
    "                   data.petal_width]).reshape(1, -1)\n",
    "        \n",
    "        # making a prediction, at this point its a number\n",
    "        y_hat = int(self._svm_model.predict(X)[0])\n",
    "        \n",
    "        # converting the prediction from a number to a string\n",
    "        targets = [\"Iris setosa\", \"Iris versicolor\", \"Iris virginica\"]\n",
    "        species = targets[y_hat]\n",
    "        \n",
    "        # returning the prediction inside an object\n",
    "        return ModelOutput(species=species)"
   ]
  },
  {
   "cell_type": "markdown",
   "id": "brief-composer",
   "metadata": {},
   "source": [
    "Notice that we are also using the pydantic models to validate the input before prediction and to\n",
    "create an object that will be returned from the model's predict() method.\n",
    "\n",
    "If we use the model class now, we'll get this result:"
   ]
  },
  {
   "cell_type": "code",
   "execution_count": 14,
   "id": "enabling-river",
   "metadata": {},
   "outputs": [
    {
     "data": {
      "text/plain": [
       "ModelOutput(species=<Species.iris_virginica: 'Iris virginica'>)"
      ]
     },
     "execution_count": 14,
     "metadata": {},
     "output_type": "execute_result"
    }
   ],
   "source": [
    "model = IrisModel()\n",
    "\n",
    "prediction = model.predict(ModelInput(\n",
    "    sepal_length=6.0, \n",
    "    sepal_width=2.1, \n",
    "    petal_length=1.2, \n",
    "    petal_width=1.3))\n",
    "\n",
    "prediction"
   ]
  },
  {
   "cell_type": "markdown",
   "id": "caring-vanilla",
   "metadata": {},
   "source": [
    "By adding input and output schemas to the model, we can automate many other operations later. Also, we can query\n",
    "the model object itself for the schema. The pydantic package is able to create JSON schema from the fields in the input and output schema objects of the model:"
   ]
  },
  {
   "cell_type": "code",
   "execution_count": 15,
   "id": "revolutionary-phenomenon",
   "metadata": {},
   "outputs": [
    {
     "data": {
      "text/plain": [
       "{'title': 'ModelInput',\n",
       " 'type': 'object',\n",
       " 'properties': {'sepal_length': {'title': 'Sepal Length',\n",
       "   'description': 'The length of the sepal of the flower.',\n",
       "   'exclusiveMinimum': 5.0,\n",
       "   'exclusiveMaximum': 8.0,\n",
       "   'type': 'number'},\n",
       "  'sepal_width': {'title': 'Sepal Width',\n",
       "   'description': 'The width of the sepal of the flower.',\n",
       "   'exclusiveMinimum': 2.0,\n",
       "   'exclusiveMaximum': 6.0,\n",
       "   'type': 'number'},\n",
       "  'petal_length': {'title': 'Petal Length',\n",
       "   'description': 'The length of the petal of the flower.',\n",
       "   'exclusiveMinimum': 1.0,\n",
       "   'exclusiveMaximum': 6.8,\n",
       "   'type': 'number'},\n",
       "  'petal_width': {'title': 'Petal Width',\n",
       "   'description': 'The width of the petal of the flower.',\n",
       "   'exclusiveMinimum': 0.0,\n",
       "   'exclusiveMaximum': 3.0,\n",
       "   'type': 'number'}},\n",
       " 'required': ['sepal_length', 'sepal_width', 'petal_length', 'petal_width']}"
      ]
     },
     "execution_count": 15,
     "metadata": {},
     "output_type": "execute_result"
    }
   ],
   "source": [
    "model = IrisModel()\n",
    "\n",
    "model.input_schema.schema()"
   ]
  },
  {
   "cell_type": "code",
   "execution_count": 16,
   "id": "limited-emphasis",
   "metadata": {},
   "outputs": [
    {
     "data": {
      "text/plain": [
       "{'title': 'ModelOutput',\n",
       " 'type': 'object',\n",
       " 'properties': {'species': {'$ref': '#/definitions/Species'}},\n",
       " 'required': ['species'],\n",
       " 'definitions': {'Species': {'title': 'Species',\n",
       "   'description': 'An enumeration.',\n",
       "   'enum': ['Iris setosa', 'Iris versicolor', 'Iris virginica'],\n",
       "   'type': 'string'}}}"
      ]
     },
     "execution_count": 16,
     "metadata": {},
     "output_type": "execute_result"
    }
   ],
   "source": [
    "model.output_schema.schema()"
   ]
  },
  {
   "cell_type": "markdown",
   "id": "thick-institute",
   "metadata": {},
   "source": [
    "Although it is not required to use the pydantic package to create model schemas, it is recommended. The pydantic\n",
    "package is installed as a dependency of the ml_base package."
   ]
  },
  {
   "cell_type": "markdown",
   "id": "brave-measure",
   "metadata": {},
   "source": [
    "## Using the ModelManager Class\n",
    "\n",
    "The ModelManager class is provided to help manage model objects. It is a singleton class that is designed to enable\n",
    "model instances to be instantiated once during the lifecycle of a process and accessed many times:"
   ]
  },
  {
   "cell_type": "code",
   "execution_count": 17,
   "id": "hybrid-storm",
   "metadata": {},
   "outputs": [],
   "source": [
    "from ml_base.utilities import ModelManager\n",
    "\n",
    "\n",
    "model_manager = ModelManager()"
   ]
  },
  {
   "cell_type": "markdown",
   "id": "binding-commission",
   "metadata": {},
   "source": [
    "Because it is a singleton object, a reference to the same object is returned no matter how many times we instantiate it:"
   ]
  },
  {
   "cell_type": "code",
   "execution_count": 18,
   "id": "olympic-casting",
   "metadata": {},
   "outputs": [
    {
     "name": "stdout",
     "output_type": "stream",
     "text": [
      "4505980208\n",
      "4505980208\n"
     ]
    }
   ],
   "source": [
    "print(id(model_manager))\n",
    "\n",
    "another_model_manager = ModelManager()\n",
    "\n",
    "print(id(another_model_manager))"
   ]
  },
  {
   "cell_type": "markdown",
   "id": "embedded-decimal",
   "metadata": {},
   "source": [
    "You can add model instances to the ModelManager singleton by asking it to instantiate the model class:"
   ]
  },
  {
   "cell_type": "code",
   "execution_count": 19,
   "id": "protective-reading",
   "metadata": {},
   "outputs": [],
   "source": [
    "model_manager.load_model(\"__main__.IrisModel\")"
   ]
  },
  {
   "cell_type": "markdown",
   "id": "mysterious-expense",
   "metadata": {},
   "source": [
    "The load_model() method is able to find the MLModel class that we defined above and instantiate it, after that it stores a reference to the instance internally.\n",
    "\n",
    "The ModelManager is also able to save references to model instances that were instantiated in some other way by using the add_model() method:"
   ]
  },
  {
   "cell_type": "code",
   "execution_count": 20,
   "id": "fatal-trade",
   "metadata": {},
   "outputs": [
    {
     "name": "stdout",
     "output_type": "stream",
     "text": [
      "A model with the same qualified name is already in the ModelManager singleton.\n"
     ]
    }
   ],
   "source": [
    "another_iris_model = IrisModel()\n",
    "\n",
    "try:\n",
    "    model_manager.add_model(another_iris_model)\n",
    "except ValueError as e:\n",
    "    print(e)"
   ]
  },
  {
   "cell_type": "markdown",
   "id": "optional-device",
   "metadata": {},
   "source": [
    "In this case, the ModelManager did not save the instance of the IrisModel because we already had an instance of the model. The models are uniquely identified by their qualified name properties.\n",
    "\n",
    "The ModelManager instance can list the models that it contains with the get_models() method, the details of the instance of IrisModel that we just created are returned:"
   ]
  },
  {
   "cell_type": "code",
   "execution_count": 21,
   "id": "medical-balance",
   "metadata": {},
   "outputs": [
    {
     "data": {
      "text/plain": [
       "[{'display_name': 'Iris Model',\n",
       "  'qualified_name': 'iris_model',\n",
       "  'description': 'A model to predict the species of a flower based on its measurements.',\n",
       "  'version': '1.0.0'}]"
      ]
     },
     "execution_count": 21,
     "metadata": {},
     "output_type": "execute_result"
    }
   ],
   "source": [
    "model_manager.get_models()"
   ]
  },
  {
   "cell_type": "markdown",
   "id": "basic-flush",
   "metadata": {},
   "source": [
    "The ModelManager instance can return the metadata of any of the models. The metadata includes the input and output schemas as well:"
   ]
  },
  {
   "cell_type": "code",
   "execution_count": 22,
   "id": "assumed-manor",
   "metadata": {},
   "outputs": [
    {
     "data": {
      "text/plain": [
       "{'display_name': 'Iris Model',\n",
       " 'qualified_name': 'iris_model',\n",
       " 'description': 'A model to predict the species of a flower based on its measurements.',\n",
       " 'version': '1.0.0',\n",
       " 'input_schema': {'title': 'ModelInput',\n",
       "  'type': 'object',\n",
       "  'properties': {'sepal_length': {'title': 'Sepal Length',\n",
       "    'description': 'The length of the sepal of the flower.',\n",
       "    'exclusiveMinimum': 5.0,\n",
       "    'exclusiveMaximum': 8.0,\n",
       "    'type': 'number'},\n",
       "   'sepal_width': {'title': 'Sepal Width',\n",
       "    'description': 'The width of the sepal of the flower.',\n",
       "    'exclusiveMinimum': 2.0,\n",
       "    'exclusiveMaximum': 6.0,\n",
       "    'type': 'number'},\n",
       "   'petal_length': {'title': 'Petal Length',\n",
       "    'description': 'The length of the petal of the flower.',\n",
       "    'exclusiveMinimum': 1.0,\n",
       "    'exclusiveMaximum': 6.8,\n",
       "    'type': 'number'},\n",
       "   'petal_width': {'title': 'Petal Width',\n",
       "    'description': 'The width of the petal of the flower.',\n",
       "    'exclusiveMinimum': 0.0,\n",
       "    'exclusiveMaximum': 3.0,\n",
       "    'type': 'number'}},\n",
       "  'required': ['sepal_length', 'sepal_width', 'petal_length', 'petal_width']},\n",
       " 'output_schema': {'title': 'ModelOutput',\n",
       "  'type': 'object',\n",
       "  'properties': {'species': {'$ref': '#/definitions/Species'}},\n",
       "  'required': ['species'],\n",
       "  'definitions': {'Species': {'title': 'Species',\n",
       "    'description': 'An enumeration.',\n",
       "    'enum': ['Iris setosa', 'Iris versicolor', 'Iris virginica'],\n",
       "    'type': 'string'}}}}"
      ]
     },
     "execution_count": 22,
     "metadata": {},
     "output_type": "execute_result"
    }
   ],
   "source": [
    "model_manager.get_model_metadata(\"iris_model\")"
   ]
  },
  {
   "cell_type": "markdown",
   "id": "practical-expression",
   "metadata": {},
   "source": [
    "The ModelManager can return a reference to the instance of any model that it is holding:"
   ]
  },
  {
   "cell_type": "code",
   "execution_count": 23,
   "id": "interim-heather",
   "metadata": {},
   "outputs": [
    {
     "name": "stdout",
     "output_type": "stream",
     "text": [
      "Iris Model\n"
     ]
    }
   ],
   "source": [
    "iris_model = model_manager.get_model(\"iris_model\")\n",
    "\n",
    "print(iris_model.display_name)"
   ]
  },
  {
   "cell_type": "markdown",
   "id": "gentle-smooth",
   "metadata": {},
   "source": [
    "The instance is identified by the qualified name of the model.\n",
    "\n",
    "Lastly, a model instance can be removed by calling the remove_model() method:"
   ]
  },
  {
   "cell_type": "code",
   "execution_count": 24,
   "id": "impressed-effort",
   "metadata": {},
   "outputs": [
    {
     "data": {
      "text/plain": [
       "[]"
      ]
     },
     "execution_count": 24,
     "metadata": {},
     "output_type": "execute_result"
    }
   ],
   "source": [
    "model_manager.remove_model(\"iris_model\")\n",
    "\n",
    "model_manager.get_models()"
   ]
  },
  {
   "cell_type": "markdown",
   "id": "successful-contrast",
   "metadata": {},
   "source": [
    "To clear the ModelManager instance, you can call the clear_instance() method:"
   ]
  },
  {
   "cell_type": "code",
   "execution_count": 25,
   "id": "resident-bookmark",
   "metadata": {},
   "outputs": [],
   "source": [
    "model_manager.clear_instance()"
   ]
  },
  {
   "cell_type": "markdown",
   "id": "english-master",
   "metadata": {},
   "source": [
    "To create a new singleton you have to instantiate the ModelManager again:"
   ]
  },
  {
   "cell_type": "code",
   "execution_count": 26,
   "id": "indonesian-technology",
   "metadata": {},
   "outputs": [],
   "source": [
    "model_manager = ModelManager()"
   ]
  }
 ],
 "metadata": {
  "kernelspec": {
   "display_name": "Python 3 (ipykernel)",
   "language": "python",
   "name": "python3"
  },
  "language_info": {
   "codemirror_mode": {
    "name": "ipython",
    "version": 3
   },
   "file_extension": ".py",
   "mimetype": "text/x-python",
   "name": "python",
   "nbconvert_exporter": "python",
   "pygments_lexer": "ipython3",
   "version": "3.8.10"
  }
 },
 "nbformat": 4,
 "nbformat_minor": 5
}
