{
 "cells": [
  {
   "cell_type": "markdown",
   "id": "black-funeral",
   "metadata": {},
   "source": [
    "# Examples\n",
    "\n",
    "This example can be executed directly by loading the notebook file.\n",
    "\n",
    "To get started we'll install the ml_base package:"
   ]
  },
  {
   "cell_type": "code",
   "execution_count": null,
   "id": "interim-wilderness",
   "metadata": {},
   "outputs": [],
   "source": [
    "!pip install ml_base"
   ]
  },
  {
   "cell_type": "markdown",
   "id": "retained-writing",
   "metadata": {},
   "source": [
    "## Creating a Simple Model\n",
    "\n",
    "To show how to work with the MLModel base class we'll create a simple model that we can make predictions with. We'll use the scikit-learn library:"
   ]
  },
  {
   "cell_type": "code",
   "execution_count": null,
   "id": "dynamic-interaction",
   "metadata": {},
   "outputs": [],
   "source": [
    "!pip install scikit-learn"
   ]
  },
  {
   "cell_type": "markdown",
   "id": "authentic-bread",
   "metadata": {},
   "source": [
    "Now we can write some code to train a model:"
   ]
  },
  {
   "cell_type": "code",
   "execution_count": 3,
   "id": "difficult-stockholm",
   "metadata": {},
   "outputs": [],
   "source": [
    "from sklearn import datasets\n",
    "from sklearn import svm\n",
    "import pickle\n",
    "\n",
    "# loading the Iris dataset\n",
    "iris = datasets.load_iris()\n",
    "\n",
    "# instantiating an SVM model from scikit-learn\n",
    "svm_model = svm.SVC(gamma=1.0, C=1.0)\n",
    "\n",
    "# fitting the model\n",
    "svm_model.fit(iris.data[:-1], iris.target[:-1])\n",
    "\n",
    "# serializing the model and saving it\n",
    "file = open(\"svc_model.pickle\", 'wb')\n",
    "pickle.dump(svm_model, file)\n",
    "file.close()"
   ]
  },
  {
   "cell_type": "markdown",
   "id": "focal-spokesman",
   "metadata": {},
   "source": [
    "## Creating a Wrapper Class for Your Model\n",
    "\n",
    "Now that we have a model object, we'll define a class that implements the prediction functionality for the code:"
   ]
  },
  {
   "cell_type": "code",
   "execution_count": 4,
   "id": "mineral-bridal",
   "metadata": {},
   "outputs": [],
   "source": [
    "import os\n",
    "from numpy import array\n",
    "\n",
    "\n",
    "class IrisModel(object):\n",
    "    def __init__(self):\n",
    "        dir_path = os.path.abspath('')\n",
    "        file = open(os.path.join(dir_path, \"svc_model.pickle\"), 'rb')\n",
    "        self._svm_model = pickle.load(file)\n",
    "        file.close()\n",
    "\n",
    "    def predict(self, data: dict):\n",
    "        X = array([data[\"sepal_length\"], data[\"sepal_width\"], data[\"petal_length\"], data[\"petal_width\"]]).reshape(1, -1)\n",
    "        y_hat = int(self._svm_model.predict(X)[0])\n",
    "        targets = ['setosa', 'versicolor', 'virginica']\n",
    "        species = targets[y_hat]\n",
    "        return {\"species\": species}"
   ]
  },
  {
   "cell_type": "markdown",
   "id": "shaped-facility",
   "metadata": {},
   "source": [
    "The class above wraps the pickled model object and makes the model easier to use by converting the inputs and outputs.\n",
    "To use the model, all we need to do is this:"
   ]
  },
  {
   "cell_type": "code",
   "execution_count": 5,
   "id": "sunset-taste",
   "metadata": {},
   "outputs": [
    {
     "data": {
      "text/plain": [
       "{'species': 'virginica'}"
      ]
     },
     "execution_count": 5,
     "metadata": {},
     "output_type": "execute_result"
    }
   ],
   "source": [
    "model = IrisModel()\n",
    "\n",
    "prediction = model.predict(data={\n",
    "    \"sepal_length\":1.0,\n",
    "    \"sepal_width\":1.1,\n",
    "    \"petal_length\": 1.2,\n",
    "    \"petal_width\": 1.3})\n",
    "\n",
    "prediction"
   ]
  },
  {
   "cell_type": "markdown",
   "id": "secure-algeria",
   "metadata": {},
   "source": [
    "## Creating an MLModel Class for Your Model\n",
    "\n",
    "The model is already much easier to use because it provides the prediction from a class. The user of the model doesn't\n",
    "need to worry about loading the pickled model object, or converting the model's input into a numpy array. However, we\n",
    "are still not using the MLModel abstract base class, now we'll implement a part of the MLModel's interface to show how\n",
    "it works:"
   ]
  },
  {
   "cell_type": "code",
   "execution_count": 6,
   "id": "stuffed-morris",
   "metadata": {},
   "outputs": [],
   "source": [
    "from ml_base import MLModel\n",
    "\n",
    "\n",
    "class IrisModel(MLModel):\n",
    "    @property\n",
    "    def display_name(self):\n",
    "        return \"Iris Model\"\n",
    "\n",
    "    @property\n",
    "    def qualified_name(self):\n",
    "        return \"iris_model\"\n",
    "\n",
    "    @property\n",
    "    def description(self):\n",
    "        return \"A model to predict the species of a flower based on its measurements.\"\n",
    "\n",
    "    @property\n",
    "    def version(self):\n",
    "        return \"1.0.0\"\n",
    "\n",
    "    @property\n",
    "    def input_schema(self):\n",
    "        raise NotImplementedError()\n",
    "\n",
    "    @property\n",
    "    def output_schema(self):\n",
    "        raise NotImplementedError()\n",
    "\n",
    "    def __init__(self):\n",
    "        dir_path = os.path.abspath('')\n",
    "        file = open(os.path.join(dir_path, \"svc_model.pickle\"), 'rb')\n",
    "        self._svm_model = pickle.load(file)\n",
    "        file.close()\n",
    "\n",
    "    def predict(self, data: dict):\n",
    "        X = array([data[\"sepal_length\"], data[\"sepal_width\"], data[\"petal_length\"], data[\"petal_width\"]]).reshape(1, -1)\n",
    "        y_hat = int(self._svm_model.predict(X)[0])\n",
    "        targets = ['setosa', 'versicolor', 'virginica']\n",
    "        species = targets[y_hat]\n",
    "        return {\"species\": species}"
   ]
  },
  {
   "cell_type": "markdown",
   "id": "primary-sharing",
   "metadata": {},
   "source": [
    "The MLModel base class defines a set of properties that must be provided by any class that inherits from it. Because the IrisModel class now provides this metadata about the model, we can access it directly from the model object like this:"
   ]
  },
  {
   "cell_type": "code",
   "execution_count": 7,
   "id": "alleged-peeing",
   "metadata": {},
   "outputs": [
    {
     "data": {
      "text/plain": [
       "'Iris Model'"
      ]
     },
     "execution_count": 7,
     "metadata": {},
     "output_type": "execute_result"
    }
   ],
   "source": [
    "model = IrisModel()\n",
    "\n",
    "model.display_name"
   ]
  },
  {
   "cell_type": "code",
   "execution_count": 8,
   "id": "lonely-orchestra",
   "metadata": {},
   "outputs": [
    {
     "data": {
      "text/plain": [
       "'1.0.0'"
      ]
     },
     "execution_count": 8,
     "metadata": {},
     "output_type": "execute_result"
    }
   ],
   "source": [
    "model.version"
   ]
  },
  {
   "cell_type": "markdown",
   "id": "binding-grade",
   "metadata": {},
   "source": [
    "As you can see, we didn't implement the schema properties above, we'll add those next."
   ]
  },
  {
   "cell_type": "markdown",
   "id": "cross-setting",
   "metadata": {},
   "source": [
    "## Adding Schema to Your Model\n",
    "\n",
    "To add schema information to the model class, we'll use the pydantic package:"
   ]
  },
  {
   "cell_type": "code",
   "execution_count": 9,
   "id": "widespread-render",
   "metadata": {},
   "outputs": [],
   "source": [
    "from pydantic import BaseModel, Field\n",
    "from pydantic import ValidationError\n",
    "from enum import Enum\n",
    "\n",
    "\n",
    "class ModelInput(BaseModel):\n",
    "    sepal_length: float = Field(gt=5.0, lt=8.0)\n",
    "    sepal_width: float = Field(gt=2.0, lt=6.0)\n",
    "    petal_length: float = Field(gt=1.0, lt=6.8)\n",
    "    petal_width: float = Field(gt=0.0, lt=3.0)\n",
    "\n",
    "\n",
    "class Species(str, Enum):\n",
    "    iris_setosa = \"Iris setosa\"\n",
    "    iris_versicolor = \"Iris versicolor\"\n",
    "    iris_virginica = \"Iris virginica\"\n",
    "\n",
    "\n",
    "class ModelOutput(BaseModel):\n",
    "    species: Species\n"
   ]
  },
  {
   "cell_type": "markdown",
   "id": "subject-wisconsin",
   "metadata": {},
   "source": [
    "Now that we have the ModelInput and ModelOutput schemas defined as pydantic BaseModel classes, we'll add\n",
    "them to the IrisModel class, returning them from the input_schema and output_schema properties:"
   ]
  },
  {
   "cell_type": "code",
   "execution_count": 10,
   "id": "buried-oklahoma",
   "metadata": {},
   "outputs": [],
   "source": [
    "from ml_base.ml_model import MLModel, MLModelSchemaValidationException\n",
    "\n",
    "\n",
    "class IrisModel(MLModel):\n",
    "    @property\n",
    "    def display_name(self):\n",
    "        return \"Iris Model\"\n",
    "\n",
    "    @property\n",
    "    def qualified_name(self):\n",
    "        return \"iris_model\"\n",
    "\n",
    "    @property\n",
    "    def description(self):\n",
    "        return \"A model to predict the species of a flower based on its measurements.\"\n",
    "\n",
    "    @property\n",
    "    def version(self):\n",
    "        return \"1.0.0\"\n",
    "\n",
    "    @property\n",
    "    def input_schema(self):\n",
    "        return ModelInput\n",
    "\n",
    "    @property\n",
    "    def output_schema(self):\n",
    "        return ModelOutput\n",
    "\n",
    "    def __init__(self):\n",
    "        dir_path = os.path.abspath('')\n",
    "        file = open(os.path.join(dir_path, \"svc_model.pickle\"), 'rb')\n",
    "        self._svm_model = pickle.load(file)\n",
    "        file.close()\n",
    "\n",
    "    def predict(self, data: dict):\n",
    "        model_input = ModelInput(**data)\n",
    "        X = array([model_input.sepal_length, model_input.sepal_width, model_input.petal_length, model_input.petal_width]).reshape(1, -1)\n",
    "        y_hat = int(self._svm_model.predict(X)[0])\n",
    "        targets = [\"Iris setosa\", \"Iris versicolor\", \"Iris virginica\"]\n",
    "        species = targets[y_hat]\n",
    "        return ModelOutput(species=species)"
   ]
  },
  {
   "cell_type": "markdown",
   "id": "brief-composer",
   "metadata": {},
   "source": [
    "Notice that we are also using the pydantic models to validate the input before prediction and to\n",
    "create an object that will be returned from the model's predict() method.\n",
    "\n",
    "If we use the model class now, we'll get this result:"
   ]
  },
  {
   "cell_type": "code",
   "execution_count": 11,
   "id": "enabling-river",
   "metadata": {},
   "outputs": [
    {
     "data": {
      "text/plain": [
       "ModelOutput(species=<Species.iris_virginica: 'Iris virginica'>)"
      ]
     },
     "execution_count": 11,
     "metadata": {},
     "output_type": "execute_result"
    }
   ],
   "source": [
    "model = IrisModel()\n",
    "\n",
    "prediction = model.predict(data={\"sepal_length\": 6.0, \"sepal_width\": 2.1, \n",
    "                                 \"petal_length\": 1.2, \"petal_width\": 1.3})\n",
    "\n",
    "prediction"
   ]
  },
  {
   "cell_type": "markdown",
   "id": "caring-vanilla",
   "metadata": {},
   "source": [
    "By adding input and output schemas to the model, we can automate many other operations later. Also, we can query\n",
    "the model object itself for the schema:"
   ]
  },
  {
   "cell_type": "code",
   "execution_count": 12,
   "id": "revolutionary-phenomenon",
   "metadata": {},
   "outputs": [
    {
     "data": {
      "text/plain": [
       "{'title': 'ModelInput',\n",
       " 'type': 'object',\n",
       " 'properties': {'sepal_length': {'title': 'Sepal Length',\n",
       "   'exclusiveMinimum': 5.0,\n",
       "   'exclusiveMaximum': 8.0,\n",
       "   'type': 'number'},\n",
       "  'sepal_width': {'title': 'Sepal Width',\n",
       "   'exclusiveMinimum': 2.0,\n",
       "   'exclusiveMaximum': 6.0,\n",
       "   'type': 'number'},\n",
       "  'petal_length': {'title': 'Petal Length',\n",
       "   'exclusiveMinimum': 1.0,\n",
       "   'exclusiveMaximum': 6.8,\n",
       "   'type': 'number'},\n",
       "  'petal_width': {'title': 'Petal Width',\n",
       "   'exclusiveMinimum': 0.0,\n",
       "   'exclusiveMaximum': 3.0,\n",
       "   'type': 'number'}},\n",
       " 'required': ['sepal_length', 'sepal_width', 'petal_length', 'petal_width']}"
      ]
     },
     "execution_count": 12,
     "metadata": {},
     "output_type": "execute_result"
    }
   ],
   "source": [
    "model = IrisModel()\n",
    "\n",
    "model.input_schema.schema()"
   ]
  },
  {
   "cell_type": "code",
   "execution_count": 13,
   "id": "limited-emphasis",
   "metadata": {},
   "outputs": [
    {
     "data": {
      "text/plain": [
       "{'title': 'ModelOutput',\n",
       " 'type': 'object',\n",
       " 'properties': {'species': {'$ref': '#/definitions/Species'}},\n",
       " 'required': ['species'],\n",
       " 'definitions': {'Species': {'title': 'Species',\n",
       "   'description': 'An enumeration.',\n",
       "   'enum': ['Iris setosa', 'Iris versicolor', 'Iris virginica'],\n",
       "   'type': 'string'}}}"
      ]
     },
     "execution_count": 13,
     "metadata": {},
     "output_type": "execute_result"
    }
   ],
   "source": [
    "model.output_schema.schema()"
   ]
  },
  {
   "cell_type": "markdown",
   "id": "thick-institute",
   "metadata": {},
   "source": [
    "Although it is not required to use the pydantic package to create model schemas, it is recommended. The pydantic\n",
    "package is installed as a dependency of the ml_base package."
   ]
  },
  {
   "cell_type": "markdown",
   "id": "brave-measure",
   "metadata": {},
   "source": [
    "## Using the ModelManager Class\n",
    "\n",
    "The ModelManager class is provided to help manage model objects. It is a singleton class that is designed to enable\n",
    "model instances to be instantiated once during the lifecycle of a process and accessed many times:"
   ]
  },
  {
   "cell_type": "code",
   "execution_count": 14,
   "id": "hybrid-storm",
   "metadata": {},
   "outputs": [],
   "source": [
    "from ml_base.utilities import ModelManager\n",
    "\n",
    "\n",
    "model_manager = ModelManager()\n",
    "\n",
    "model_manager.load_model(\"__main__.IrisModel\")"
   ]
  },
  {
   "cell_type": "markdown",
   "id": "mysterious-expense",
   "metadata": {},
   "source": [
    "The load_model() method is able to find the MLModel class that we defined above and instantiates it.\n",
    "\n",
    "The ModelManager instance can list the models being managed:"
   ]
  },
  {
   "cell_type": "code",
   "execution_count": 15,
   "id": "medical-balance",
   "metadata": {},
   "outputs": [
    {
     "data": {
      "text/plain": [
       "[{'display_name': 'Iris Model',\n",
       "  'qualified_name': 'iris_model',\n",
       "  'description': 'A model to predict the species of a flower based on its measurements.',\n",
       "  'version': '1.0.0'}]"
      ]
     },
     "execution_count": 15,
     "metadata": {},
     "output_type": "execute_result"
    }
   ],
   "source": [
    "model_manager.get_models()"
   ]
  },
  {
   "cell_type": "markdown",
   "id": "basic-flush",
   "metadata": {},
   "source": [
    "The ModelManager instance can return the metadata of one of the models:"
   ]
  },
  {
   "cell_type": "code",
   "execution_count": 16,
   "id": "assumed-manor",
   "metadata": {},
   "outputs": [
    {
     "data": {
      "text/plain": [
       "{'display_name': 'Iris Model',\n",
       " 'qualified_name': 'iris_model',\n",
       " 'description': 'A model to predict the species of a flower based on its measurements.',\n",
       " 'version': '1.0.0',\n",
       " 'input_schema': {'title': 'ModelInput',\n",
       "  'type': 'object',\n",
       "  'properties': {'sepal_length': {'title': 'Sepal Length',\n",
       "    'exclusiveMinimum': 5.0,\n",
       "    'exclusiveMaximum': 8.0,\n",
       "    'type': 'number'},\n",
       "   'sepal_width': {'title': 'Sepal Width',\n",
       "    'exclusiveMinimum': 2.0,\n",
       "    'exclusiveMaximum': 6.0,\n",
       "    'type': 'number'},\n",
       "   'petal_length': {'title': 'Petal Length',\n",
       "    'exclusiveMinimum': 1.0,\n",
       "    'exclusiveMaximum': 6.8,\n",
       "    'type': 'number'},\n",
       "   'petal_width': {'title': 'Petal Width',\n",
       "    'exclusiveMinimum': 0.0,\n",
       "    'exclusiveMaximum': 3.0,\n",
       "    'type': 'number'}},\n",
       "  'required': ['sepal_length', 'sepal_width', 'petal_length', 'petal_width']},\n",
       " 'output_schema': {'title': 'ModelOutput',\n",
       "  'type': 'object',\n",
       "  'properties': {'species': {'$ref': '#/definitions/Species'}},\n",
       "  'required': ['species'],\n",
       "  'definitions': {'Species': {'title': 'Species',\n",
       "    'description': 'An enumeration.',\n",
       "    'enum': ['Iris setosa', 'Iris versicolor', 'Iris virginica'],\n",
       "    'type': 'string'}}}}"
      ]
     },
     "execution_count": 16,
     "metadata": {},
     "output_type": "execute_result"
    }
   ],
   "source": [
    "model_manager.get_model_metadata(\"iris_model\")"
   ]
  },
  {
   "cell_type": "markdown",
   "id": "practical-expression",
   "metadata": {},
   "source": [
    "The ModelManager will return a reference to a model object like this:"
   ]
  },
  {
   "cell_type": "code",
   "execution_count": 17,
   "id": "interim-heather",
   "metadata": {},
   "outputs": [
    {
     "data": {
      "text/plain": [
       "'Iris Model'"
      ]
     },
     "execution_count": 17,
     "metadata": {},
     "output_type": "execute_result"
    }
   ],
   "source": [
    "iris_model = model_manager.get_model(\"iris_model\")\n",
    "\n",
    "iris_model.display_name"
   ]
  }
 ],
 "metadata": {
  "kernelspec": {
   "display_name": "Python 3",
   "language": "python",
   "name": "python3"
  },
  "language_info": {
   "codemirror_mode": {
    "name": "ipython",
    "version": 3
   },
   "file_extension": ".py",
   "mimetype": "text/x-python",
   "name": "python",
   "nbconvert_exporter": "python",
   "pygments_lexer": "ipython3",
   "version": "3.8.6"
  }
 },
 "nbformat": 4,
 "nbformat_minor": 5
}
